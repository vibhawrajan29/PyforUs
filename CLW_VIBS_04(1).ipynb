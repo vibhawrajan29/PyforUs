{
  "nbformat": 4,
  "nbformat_minor": 0,
  "metadata": {
    "colab": {
      "name": "CLW_VIBS_04.ipynb",
      "version": "0.3.2",
      "provenance": []
    },
    "kernelspec": {
      "name": "python3",
      "display_name": "Python 3"
    }
  },
  "cells": [
    {
      "metadata": {
        "id": "1cwcOl8A_KJl",
        "colab_type": "code",
        "colab": {
          "base_uri": "https://localhost:8080/",
          "height": 35
        },
        "outputId": "7b61a94b-ac76-4ef7-e589-c00560cc6e9e"
      },
      "cell_type": "code",
      "source": [
        "y= round(1.5)\n",
        "y"
      ],
      "execution_count": 15,
      "outputs": [
        {
          "output_type": "execute_result",
          "data": {
            "text/plain": [
              "2"
            ]
          },
          "metadata": {
            "tags": []
          },
          "execution_count": 15
        }
      ]
    },
    {
      "metadata": {
        "id": "ATFICbSs_PbH",
        "colab_type": "code",
        "colab": {
          "base_uri": "https://localhost:8080/",
          "height": 35
        },
        "outputId": "ffcc20cd-0f51-451c-f383-f80c849fc540"
      },
      "cell_type": "code",
      "source": [
        "y=round(2.5)\n",
        "y"
      ],
      "execution_count": 12,
      "outputs": [
        {
          "output_type": "execute_result",
          "data": {
            "text/plain": [
              "2"
            ]
          },
          "metadata": {
            "tags": []
          },
          "execution_count": 12
        }
      ]
    },
    {
      "metadata": {
        "id": "9w5Vo4UqB_wS",
        "colab_type": "code",
        "colab": {
          "base_uri": "https://localhost:8080/",
          "height": 35
        },
        "outputId": "e20a3546-d121-4116-a8cf-acbb036c3954"
      },
      "cell_type": "code",
      "source": [
        "y=round(3.5)\n",
        "y"
      ],
      "execution_count": 13,
      "outputs": [
        {
          "output_type": "execute_result",
          "data": {
            "text/plain": [
              "4"
            ]
          },
          "metadata": {
            "tags": []
          },
          "execution_count": 13
        }
      ]
    },
    {
      "metadata": {
        "id": "M60miMBrCGdP",
        "colab_type": "code",
        "colab": {
          "base_uri": "https://localhost:8080/",
          "height": 35
        },
        "outputId": "df6de04b-e640-4386-a39d-b809f53ebad8"
      },
      "cell_type": "code",
      "source": [
        "y=round(4.5)\n",
        "y"
      ],
      "execution_count": 14,
      "outputs": [
        {
          "output_type": "execute_result",
          "data": {
            "text/plain": [
              "4"
            ]
          },
          "metadata": {
            "tags": []
          },
          "execution_count": 14
        }
      ]
    },
    {
      "metadata": {
        "id": "ugCTIZlvbzTA",
        "colab_type": "text"
      },
      "cell_type": "markdown",
      "source": [
        "A function is a reusable block of code which performs operations specified in the function. They let you break down tasks and allow you to reuse your code in different programs.\n",
        "\n",
        "There are two types of functions :\n",
        "\n",
        "    Pre-defined functions\n",
        "    User defined functions\n"
      ]
    },
    {
      "metadata": {
        "id": "N9eyT_SncG5K",
        "colab_type": "text"
      },
      "cell_type": "markdown",
      "source": [
        "Here are simple rules to define a function in Python:\n",
        "\n",
        "    Functions blocks begin def followed by the function name and parentheses ().\n",
        "    There are input parameters or arguments that should be placed within these parentheses.\n",
        "    You can also define parameters inside these parentheses.\n",
        "    There is a body within every function that starts with a colon (:) and is indented.\n",
        "    You can also place documentation before the body\n",
        "    The statement return exits a function, optionally passing back a value\n",
        "\n",
        "An example of a function that adds on to the parameter a prints and returns the output as b:"
      ]
    },
    {
      "metadata": {
        "id": "tqphiWqyb3_k",
        "colab_type": "code",
        "colab": {}
      },
      "cell_type": "code",
      "source": [
        "def add(a):\n",
        "    \"\"\"\n",
        "    add 1 to a\n",
        "    \"\"\"\n",
        "    b=a+1; \n",
        "    print(a, \"if you add one\" ,b)\n",
        "    \n",
        "    return(b)"
      ],
      "execution_count": 0,
      "outputs": []
    },
    {
      "metadata": {
        "id": "aGAGLTt0cY2z",
        "colab_type": "code",
        "colab": {
          "base_uri": "https://localhost:8080/",
          "height": 109
        },
        "outputId": "78548328-5365-4afa-a134-cad427230e85"
      },
      "cell_type": "code",
      "source": [
        "help(add)"
      ],
      "execution_count": 17,
      "outputs": [
        {
          "output_type": "stream",
          "text": [
            "Help on function add in module __main__:\n",
            "\n",
            "add(a)\n",
            "    add 1 to a\n",
            "\n"
          ],
          "name": "stdout"
        }
      ]
    },
    {
      "metadata": {
        "id": "kh2YcSwDcdLW",
        "colab_type": "code",
        "colab": {}
      },
      "cell_type": "code",
      "source": [
        "add(2)"
      ],
      "execution_count": 0,
      "outputs": []
    },
    {
      "metadata": {
        "id": "LDAQnUp5cedU",
        "colab_type": "code",
        "colab": {}
      },
      "cell_type": "code",
      "source": [
        "def Mult(a,b):\n",
        "    c=a*b\n",
        "    return(c)"
      ],
      "execution_count": 0,
      "outputs": []
    },
    {
      "metadata": {
        "id": "RzPxezKOciG5",
        "colab_type": "code",
        "colab": {}
      },
      "cell_type": "code",
      "source": [
        "Mult(2,3)"
      ],
      "execution_count": 0,
      "outputs": []
    },
    {
      "metadata": {
        "id": "wfrIIy9Bclc7",
        "colab_type": "code",
        "colab": {}
      },
      "cell_type": "code",
      "source": [
        "Mult(10,3.14)"
      ],
      "execution_count": 0,
      "outputs": []
    },
    {
      "metadata": {
        "id": "sYn1XnY8coE1",
        "colab_type": "code",
        "colab": {
          "base_uri": "https://localhost:8080/",
          "height": 35
        },
        "outputId": "11a16830-3072-4155-bed6-b2789334d39d"
      },
      "cell_type": "code",
      "source": [
        "Mult(2,\"Michael Jackson \")"
      ],
      "execution_count": 19,
      "outputs": [
        {
          "output_type": "execute_result",
          "data": {
            "text/plain": [
              "'Michael Jackson Michael Jackson '"
            ]
          },
          "metadata": {
            "tags": []
          },
          "execution_count": 19
        }
      ]
    },
    {
      "metadata": {
        "id": "PSFX4EUPc-53",
        "colab_type": "text"
      },
      "cell_type": "markdown",
      "source": [
        "The input to a function is called a formal parameter.\n",
        "\n",
        "A variable that is declared inside a function is called a local variable. The parameter only exists within the function (i.e. the point where the function starts and stops).\n",
        "\n",
        "A variable that is declared outside a function definition is a global variable, and its value is accessible and modifiable throughout the program. We will discuss more about global variables at the end of the lab.\n"
      ]
    },
    {
      "metadata": {
        "id": "7epSAqvIdAMB",
        "colab_type": "code",
        "colab": {}
      },
      "cell_type": "code",
      "source": [
        "#Function Definition   \n",
        "def square(a):\n",
        "    \"\"\"Square the input and add one  \n",
        "    \"\"\"\n",
        "    #Local variable \n",
        "    b=1\n",
        "    c=a*a+b;\n",
        "    print(a, \"if you square +1 \",c) \n",
        "    return(c)"
      ],
      "execution_count": 0,
      "outputs": []
    },
    {
      "metadata": {
        "id": "uCqic_d3dC_a",
        "colab_type": "code",
        "colab": {}
      },
      "cell_type": "code",
      "source": [
        "#Initializes Global variable  \n",
        "\n",
        "x=3\n",
        "#Makes function call and return function a y\n",
        "z=square(x)\n",
        "z"
      ],
      "execution_count": 0,
      "outputs": []
    },
    {
      "metadata": {
        "id": "bEwFzpEtdZ7J",
        "colab_type": "text"
      },
      "cell_type": "markdown",
      "source": [
        "Pre-defined functions\n",
        "\n",
        "There are many pre-defined functions in Python, so let's start with the simple ones.\n",
        "\n",
        "The print() function:\n",
        "sum()  len() etc"
      ]
    },
    {
      "metadata": {
        "id": "alN29dcPdVr-",
        "colab_type": "code",
        "colab": {
          "base_uri": "https://localhost:8080/",
          "height": 35
        },
        "outputId": "63983cd8-9be3-4ad2-bdc6-224276c5b6f6"
      },
      "cell_type": "code",
      "source": [
        "album_ratings = [10.0,8.5,9.5,7.0,7.0,9.5,9.0,9.5] \n",
        "print(album_ratings)"
      ],
      "execution_count": 21,
      "outputs": [
        {
          "output_type": "stream",
          "text": [
            "[10.0, 8.5, 9.5, 7.0, 7.0, 9.5, 9.0, 9.5]\n"
          ],
          "name": "stdout"
        }
      ]
    },
    {
      "metadata": {
        "id": "gqi8mvPpdXAe",
        "colab_type": "code",
        "colab": {
          "base_uri": "https://localhost:8080/",
          "height": 35
        },
        "outputId": "7b334e10-48f4-4253-89b4-d13242205502"
      },
      "cell_type": "code",
      "source": [
        "sum(album_ratings)"
      ],
      "execution_count": 22,
      "outputs": [
        {
          "output_type": "execute_result",
          "data": {
            "text/plain": [
              "70.0"
            ]
          },
          "metadata": {
            "tags": []
          },
          "execution_count": 22
        }
      ]
    },
    {
      "metadata": {
        "id": "Zek71CDvdkgZ",
        "colab_type": "code",
        "colab": {
          "base_uri": "https://localhost:8080/",
          "height": 35
        },
        "outputId": "084ed081-5835-4bc8-a16a-0324fdbc25b8"
      },
      "cell_type": "code",
      "source": [
        "len(album_ratings)"
      ],
      "execution_count": 23,
      "outputs": [
        {
          "output_type": "execute_result",
          "data": {
            "text/plain": [
              "8"
            ]
          },
          "metadata": {
            "tags": []
          },
          "execution_count": 23
        }
      ]
    },
    {
      "metadata": {
        "id": "-sLF77uUd9hW",
        "colab_type": "text"
      },
      "cell_type": "markdown",
      "source": [
        "-what a class is\n",
        "\n",
        "-what an attribute is\n",
        "\n",
        "-what a method is\n",
        "\n",
        "Don’t worry if you don’t get it the first time, as much of the terminology is confusing. "
      ]
    },
    {
      "metadata": {
        "id": "dPWWSv8keAYo",
        "colab_type": "code",
        "colab": {}
      },
      "cell_type": "code",
      "source": [
        ""
      ],
      "execution_count": 0,
      "outputs": []
    },
    {
      "metadata": {
        "id": "GzmGzxlFeFoX",
        "colab_type": "text"
      },
      "cell_type": "markdown",
      "source": [
        "Creating a Class\n",
        "\n",
        "The first part of creating a class is giving it a name: In this notebook, we will create two classes, Circle and Rectangle. We need to determine all the data that make up that class, and we call that an attribute. Think about this step as creating a blue print that we will use to create objects. In figure 1 we see two classes, circle and rectangle. Each has their attributes, they are variables. The class circle has the attribute radius and colour, while the rectangle has the attribute height and width. Let’s use the visual examples of these shapes before we get to the code, as this will help you get accustomed to the vocabulary.\n",
        "\n"
      ]
    },
    {
      "metadata": {
        "id": "QlkWCP18eSAR",
        "colab_type": "text"
      },
      "cell_type": "markdown",
      "source": [
        " <a ><img src = \"https://ibm.box.com/shared/static/h2w03relr84lb8ofto2zk0dp9naiykfg.png\" width = 500, align = \"center\"></a>\n",
        " <h4 align=center>\n",
        "#### Figure 1: Classes circle and rectangle, and each has their own attributes. The class circle has the attribute radius and colour, the rectangle has the attribute height and width. "
      ]
    },
    {
      "metadata": {
        "id": "vx5XczdTeYOH",
        "colab_type": "text"
      },
      "cell_type": "markdown",
      "source": [
        "An instance of an object is the realisation of a class, and in figure 2 we see three instances of the class circle. We give each object a name: red circle, yellow circle and green circle. Each object has different attributes, so let's focus on the attribute of colour for each object\n",
        " <a ><img src = \"https://ibm.box.com/shared/static/bz20uxc78sbv8knixnl3a52z2u2r74zp.png\" width = 500, align = \"center\"></a>\n",
        " <h4 align=center>\n",
        " Figure 2: Three instances of the class circle or three objects of type circle."
      ]
    },
    {
      "metadata": {
        "id": "EojhbABSenFP",
        "colab_type": "text"
      },
      "cell_type": "markdown",
      "source": [
        "Methods give you a way to change or interact with the object; they are functions that interact with objects. For example, let’s say we would like to increase the radius by a specified amount of a circle. We can create a method called add_radius(r) that increases the radius by r. "
      ]
    },
    {
      "metadata": {
        "id": "zD-WxDrFe0uV",
        "colab_type": "text"
      },
      "cell_type": "markdown",
      "source": [
        "Now we are going to create a class circle, but first, we are going to import a library to draw the objects: "
      ]
    },
    {
      "metadata": {
        "id": "637Aecrle6ZN",
        "colab_type": "code",
        "colab": {}
      },
      "cell_type": "code",
      "source": [
        "import matplotlib.pyplot as plt\n",
        "%matplotlib inline "
      ],
      "execution_count": 0,
      "outputs": []
    },
    {
      "metadata": {
        "id": "L3II27M2fjBv",
        "colab_type": "code",
        "colab": {}
      },
      "cell_type": "code",
      "source": [
        "\n",
        "class Circle(object):\n",
        "    \n",
        "    def __init__(self,radius=3,color='blue'):\n",
        "      \n",
        "      \n",
        "        \n",
        "        self.radius=radius\n",
        "        self.color=color \n",
        "    \n",
        "    def add_radius(self,r):\n",
        "        \n",
        "        self.radius=self.radius+r\n",
        "        return(self.radius)\n",
        "    def drawCircle(self):\n",
        "        \n",
        "        plt.gca().add_patch(plt.Circle((0, 0), radius=self.radius, fc=self.color))\n",
        "        plt.axis('scaled')\n",
        "        plt.show() "
      ],
      "execution_count": 0,
      "outputs": []
    },
    {
      "metadata": {
        "id": "RpaFDf0qf13w",
        "colab_type": "text"
      },
      "cell_type": "markdown",
      "source": [
        "Creating an instance of a class Circle"
      ]
    },
    {
      "metadata": {
        "id": "vFxovzhofpyE",
        "colab_type": "code",
        "colab": {}
      },
      "cell_type": "code",
      "source": [
        "RedCircle=Circle(10,'red')"
      ],
      "execution_count": 0,
      "outputs": []
    },
    {
      "metadata": {
        "id": "mswhWtlaf7_0",
        "colab_type": "code",
        "colab": {
          "base_uri": "https://localhost:8080/",
          "height": 568
        },
        "outputId": "be63547d-c0aa-427d-c11e-3afa638c7a6e"
      },
      "cell_type": "code",
      "source": [
        "#We can use the dir command to get a list of the object's methods. Many of them are default Python methods.\n",
        "dir(RedCircle)"
      ],
      "execution_count": 27,
      "outputs": [
        {
          "output_type": "execute_result",
          "data": {
            "text/plain": [
              "['__class__',\n",
              " '__delattr__',\n",
              " '__dict__',\n",
              " '__dir__',\n",
              " '__doc__',\n",
              " '__eq__',\n",
              " '__format__',\n",
              " '__ge__',\n",
              " '__getattribute__',\n",
              " '__gt__',\n",
              " '__hash__',\n",
              " '__init__',\n",
              " '__init_subclass__',\n",
              " '__le__',\n",
              " '__lt__',\n",
              " '__module__',\n",
              " '__ne__',\n",
              " '__new__',\n",
              " '__reduce__',\n",
              " '__reduce_ex__',\n",
              " '__repr__',\n",
              " '__setattr__',\n",
              " '__sizeof__',\n",
              " '__str__',\n",
              " '__subclasshook__',\n",
              " '__weakref__',\n",
              " 'add_radius',\n",
              " 'color',\n",
              " 'drawCircle',\n",
              " 'radius']"
            ]
          },
          "metadata": {
            "tags": []
          },
          "execution_count": 27
        }
      ]
    },
    {
      "metadata": {
        "id": "kV0dtlrQgDl3",
        "colab_type": "code",
        "colab": {
          "base_uri": "https://localhost:8080/",
          "height": 35
        },
        "outputId": "5e6dbcd4-8f3a-4be4-aea2-a8c9d928ae1b"
      },
      "cell_type": "code",
      "source": [
        "RedCircle.radius"
      ],
      "execution_count": 28,
      "outputs": [
        {
          "output_type": "execute_result",
          "data": {
            "text/plain": [
              "10"
            ]
          },
          "metadata": {
            "tags": []
          },
          "execution_count": 28
        }
      ]
    },
    {
      "metadata": {
        "id": "3a0qow3wgHap",
        "colab_type": "code",
        "colab": {
          "base_uri": "https://localhost:8080/",
          "height": 35
        },
        "outputId": "b31d4e3c-28ba-4448-d30e-101fa2818a70"
      },
      "cell_type": "code",
      "source": [
        "RedCircle.color"
      ],
      "execution_count": 29,
      "outputs": [
        {
          "output_type": "execute_result",
          "data": {
            "text/plain": [
              "'red'"
            ]
          },
          "metadata": {
            "tags": []
          },
          "execution_count": 29
        }
      ]
    },
    {
      "metadata": {
        "id": "Q79ue90egJvY",
        "colab_type": "code",
        "colab": {}
      },
      "cell_type": "code",
      "source": [
        "#We can change the object's data attributes\n",
        "RedCircle.radius=1"
      ],
      "execution_count": 0,
      "outputs": []
    },
    {
      "metadata": {
        "id": "jxXJzIKBgRnn",
        "colab_type": "code",
        "colab": {
          "base_uri": "https://localhost:8080/",
          "height": 265
        },
        "outputId": "d58782b0-17bb-4e6f-e840-06dec2a30dae"
      },
      "cell_type": "code",
      "source": [
        "RedCircle.drawCircle()"
      ],
      "execution_count": 31,
      "outputs": [
        {
          "output_type": "display_data",
          "data": {
            "image/png": "[encoded data removed]",
            "text/plain": [
              "<Figure size 432x288 with 1 Axes>"
            ]
          },
          "metadata": {
            "tags": []
          }
        }
      ]
    },
    {
      "metadata": {
        "id": "RCY-aTm_gc-z",
        "colab_type": "text"
      },
      "cell_type": "markdown",
      "source": [
        "We can increase the radius of the circle by applying the method add_radius(). Let increases the radius by 2 and then by 5"
      ]
    },
    {
      "metadata": {
        "id": "qmn29tVagVtM",
        "colab_type": "code",
        "colab": {}
      },
      "cell_type": "code",
      "source": [
        "print('Radius of object:',RedCircle.radius)\n",
        "RedCircle.add_radius(2)\n",
        "print('Radius of object of after applying the method add_radius(2):',RedCircle.radius)\n",
        "RedCircle.add_radius(5)\n",
        "print('Radius of object of after applying the method add_radius(5):',RedCircle.radius)"
      ],
      "execution_count": 0,
      "outputs": []
    },
    {
      "metadata": {
        "id": "NX-GBegNgejv",
        "colab_type": "code",
        "colab": {
          "base_uri": "https://localhost:8080/",
          "height": 35
        },
        "outputId": "fd92d187-f3d2-48e3-8214-ee2bf79c2aa2"
      },
      "cell_type": "code",
      "source": [
        "BlueCircle=Circle(radius=100)\n",
        "BlueCircle.radius\n",
        "BlueCircle.color"
      ],
      "execution_count": 32,
      "outputs": [
        {
          "output_type": "execute_result",
          "data": {
            "text/plain": [
              "'blue'"
            ]
          },
          "metadata": {
            "tags": []
          },
          "execution_count": 32
        }
      ]
    },
    {
      "metadata": {
        "id": "pkorYPobgtKZ",
        "colab_type": "code",
        "colab": {}
      },
      "cell_type": "code",
      "source": [
        "#We can draw the object by using the method drawCircle():\n",
        "BlueCircle.drawCircle()"
      ],
      "execution_count": 0,
      "outputs": []
    },
    {
      "metadata": {
        "id": "yk5akhzQ2glj",
        "colab_type": "code",
        "colab": {}
      },
      "cell_type": "code",
      "source": [
        "#pandas\n",
        "# import pandas library\n",
        "import pandas as pd"
      ],
      "execution_count": 0,
      "outputs": []
    },
    {
      "metadata": {
        "id": "4q4fu0dj2nVD",
        "colab_type": "code",
        "colab": {
          "base_uri": "https://localhost:8080/",
          "height": 35
        },
        "outputId": "cb837995-54af-4ac0-c39b-6c4aac301a21"
      },
      "cell_type": "code",
      "source": [
        "# import pandas library\n",
        "import pandas as pd\n",
        "# read the online file by the URL provides above, and assign it to variable \"df\"\n",
        "path=\"https://archive.ics.uci.edu/ml/machine-learning-databases/autos/imports-85.data\"\n",
        "\n",
        "df = pd.read_csv(path,header=None)\n",
        "print(\"Done\")\n",
        "\n"
      ],
      "execution_count": 34,
      "outputs": [
        {
          "output_type": "stream",
          "text": [
            "Done\n"
          ],
          "name": "stdout"
        }
      ]
    },
    {
      "metadata": {
        "id": "nz9wcxq22ssQ",
        "colab_type": "code",
        "colab": {
          "base_uri": "https://localhost:8080/",
          "height": 236
        },
        "outputId": "81d27857-c5b9-4585-d438-62fb895e35df"
      },
      "cell_type": "code",
      "source": [
        "# show the first 5 rows using dataframe.head() method\n",
        "df.head()"
      ],
      "execution_count": 39,
      "outputs": [
        {
          "output_type": "execute_result",
          "data": {
            "text/html": [
              "<div>\n",
              "<style scoped>\n",
              "    .dataframe tbody tr th:only-of-type {\n",
              "        vertical-align: middle;\n",
              "    }\n",
              "\n",
              "    .dataframe tbody tr th {\n",
              "        vertical-align: top;\n",
              "    }\n",
              "\n",
              "    .dataframe thead th {\n",
              "        text-align: right;\n",
              "    }\n",
              "</style>\n",
              "<table border=\"1\" class=\"dataframe\">\n",
              "  <thead>\n",
              "    <tr style=\"text-align: right;\">\n",
              "      <th></th>\n",
              "      <th>0</th>\n",
              "      <th>1</th>\n",
              "      <th>2</th>\n",
              "      <th>3</th>\n",
              "      <th>4</th>\n",
              "      <th>5</th>\n",
              "      <th>6</th>\n",
              "      <th>7</th>\n",
              "      <th>8</th>\n",
              "      <th>9</th>\n",
              "      <th>...</th>\n",
              "      <th>16</th>\n",
              "      <th>17</th>\n",
              "      <th>18</th>\n",
              "      <th>19</th>\n",
              "      <th>20</th>\n",
              "      <th>21</th>\n",
              "      <th>22</th>\n",
              "      <th>23</th>\n",
              "      <th>24</th>\n",
              "      <th>25</th>\n",
              "    </tr>\n",
              "  </thead>\n",
              "  <tbody>\n",
              "    <tr>\n",
              "      <th>0</th>\n",
              "      <td>3</td>\n",
              "      <td>?</td>\n",
              "      <td>alfa-romero</td>\n",
              "      <td>gas</td>\n",
              "      <td>std</td>\n",
              "      <td>two</td>\n",
              "      <td>convertible</td>\n",
              "      <td>rwd</td>\n",
              "      <td>front</td>\n",
              "      <td>88.6</td>\n",
              "      <td>...</td>\n",
              "      <td>130</td>\n",
              "      <td>mpfi</td>\n",
              "      <td>3.47</td>\n",
              "      <td>2.68</td>\n",
              "      <td>9.0</td>\n",
              "      <td>111</td>\n",
              "      <td>5000</td>\n",
              "      <td>21</td>\n",
              "      <td>27</td>\n",
              "      <td>13495</td>\n",
              "    </tr>\n",
              "    <tr>\n",
              "      <th>1</th>\n",
              "      <td>3</td>\n",
              "      <td>?</td>\n",
              "      <td>alfa-romero</td>\n",
              "      <td>gas</td>\n",
              "      <td>std</td>\n",
              "      <td>two</td>\n",
              "      <td>convertible</td>\n",
              "      <td>rwd</td>\n",
              "      <td>front</td>\n",
              "      <td>88.6</td>\n",
              "      <td>...</td>\n",
              "      <td>130</td>\n",
              "      <td>mpfi</td>\n",
              "      <td>3.47</td>\n",
              "      <td>2.68</td>\n",
              "      <td>9.0</td>\n",
              "      <td>111</td>\n",
              "      <td>5000</td>\n",
              "      <td>21</td>\n",
              "      <td>27</td>\n",
              "      <td>16500</td>\n",
              "    </tr>\n",
              "    <tr>\n",
              "      <th>2</th>\n",
              "      <td>1</td>\n",
              "      <td>?</td>\n",
              "      <td>alfa-romero</td>\n",
              "      <td>gas</td>\n",
              "      <td>std</td>\n",
              "      <td>two</td>\n",
              "      <td>hatchback</td>\n",
              "      <td>rwd</td>\n",
              "      <td>front</td>\n",
              "      <td>94.5</td>\n",
              "      <td>...</td>\n",
              "      <td>152</td>\n",
              "      <td>mpfi</td>\n",
              "      <td>2.68</td>\n",
              "      <td>3.47</td>\n",
              "      <td>9.0</td>\n",
              "      <td>154</td>\n",
              "      <td>5000</td>\n",
              "      <td>19</td>\n",
              "      <td>26</td>\n",
              "      <td>16500</td>\n",
              "    </tr>\n",
              "    <tr>\n",
              "      <th>3</th>\n",
              "      <td>2</td>\n",
              "      <td>164</td>\n",
              "      <td>audi</td>\n",
              "      <td>gas</td>\n",
              "      <td>std</td>\n",
              "      <td>four</td>\n",
              "      <td>sedan</td>\n",
              "      <td>fwd</td>\n",
              "      <td>front</td>\n",
              "      <td>99.8</td>\n",
              "      <td>...</td>\n",
              "      <td>109</td>\n",
              "      <td>mpfi</td>\n",
              "      <td>3.19</td>\n",
              "      <td>3.40</td>\n",
              "      <td>10.0</td>\n",
              "      <td>102</td>\n",
              "      <td>5500</td>\n",
              "      <td>24</td>\n",
              "      <td>30</td>\n",
              "      <td>13950</td>\n",
              "    </tr>\n",
              "    <tr>\n",
              "      <th>4</th>\n",
              "      <td>2</td>\n",
              "      <td>164</td>\n",
              "      <td>audi</td>\n",
              "      <td>gas</td>\n",
              "      <td>std</td>\n",
              "      <td>four</td>\n",
              "      <td>sedan</td>\n",
              "      <td>4wd</td>\n",
              "      <td>front</td>\n",
              "      <td>99.4</td>\n",
              "      <td>...</td>\n",
              "      <td>136</td>\n",
              "      <td>mpfi</td>\n",
              "      <td>3.19</td>\n",
              "      <td>3.40</td>\n",
              "      <td>8.0</td>\n",
              "      <td>115</td>\n",
              "      <td>5500</td>\n",
              "      <td>18</td>\n",
              "      <td>22</td>\n",
              "      <td>17450</td>\n",
              "    </tr>\n",
              "  </tbody>\n",
              "</table>\n",
              "<p>5 rows × 26 columns</p>\n",
              "</div>"
            ],
            "text/plain": [
              "   0    1            2    3    4     5            6    7      8     9   ...    \\\n",
              "0   3    ?  alfa-romero  gas  std   two  convertible  rwd  front  88.6  ...     \n",
              "1   3    ?  alfa-romero  gas  std   two  convertible  rwd  front  88.6  ...     \n",
              "2   1    ?  alfa-romero  gas  std   two    hatchback  rwd  front  94.5  ...     \n",
              "3   2  164         audi  gas  std  four        sedan  fwd  front  99.8  ...     \n",
              "4   2  164         audi  gas  std  four        sedan  4wd  front  99.4  ...     \n",
              "\n",
              "    16    17    18    19    20   21    22  23  24     25  \n",
              "0  130  mpfi  3.47  2.68   9.0  111  5000  21  27  13495  \n",
              "1  130  mpfi  3.47  2.68   9.0  111  5000  21  27  16500  \n",
              "2  152  mpfi  2.68  3.47   9.0  154  5000  19  26  16500  \n",
              "3  109  mpfi  3.19  3.40  10.0  102  5500  24  30  13950  \n",
              "4  136  mpfi  3.19  3.40   8.0  115  5500  18  22  17450  \n",
              "\n",
              "[5 rows x 26 columns]"
            ]
          },
          "metadata": {
            "tags": []
          },
          "execution_count": 39
        }
      ]
    },
    {
      "metadata": {
        "id": "m09vPZ9-2w3T",
        "colab_type": "code",
        "colab": {
          "base_uri": "https://localhost:8080/",
          "height": 392
        },
        "outputId": "09f223fb-416d-4093-d57c-5ede8b0dd8dd"
      },
      "cell_type": "code",
      "source": [
        "df.tail(10)"
      ],
      "execution_count": 38,
      "outputs": [
        {
          "output_type": "execute_result",
          "data": {
            "text/html": [
              "<div>\n",
              "<style scoped>\n",
              "    .dataframe tbody tr th:only-of-type {\n",
              "        vertical-align: middle;\n",
              "    }\n",
              "\n",
              "    .dataframe tbody tr th {\n",
              "        vertical-align: top;\n",
              "    }\n",
              "\n",
              "    .dataframe thead th {\n",
              "        text-align: right;\n",
              "    }\n",
              "</style>\n",
              "<table border=\"1\" class=\"dataframe\">\n",
              "  <thead>\n",
              "    <tr style=\"text-align: right;\">\n",
              "      <th></th>\n",
              "      <th>0</th>\n",
              "      <th>1</th>\n",
              "      <th>2</th>\n",
              "      <th>3</th>\n",
              "      <th>4</th>\n",
              "      <th>5</th>\n",
              "      <th>6</th>\n",
              "      <th>7</th>\n",
              "      <th>8</th>\n",
              "      <th>9</th>\n",
              "      <th>...</th>\n",
              "      <th>16</th>\n",
              "      <th>17</th>\n",
              "      <th>18</th>\n",
              "      <th>19</th>\n",
              "      <th>20</th>\n",
              "      <th>21</th>\n",
              "      <th>22</th>\n",
              "      <th>23</th>\n",
              "      <th>24</th>\n",
              "      <th>25</th>\n",
              "    </tr>\n",
              "  </thead>\n",
              "  <tbody>\n",
              "    <tr>\n",
              "      <th>195</th>\n",
              "      <td>-1</td>\n",
              "      <td>74</td>\n",
              "      <td>volvo</td>\n",
              "      <td>gas</td>\n",
              "      <td>std</td>\n",
              "      <td>four</td>\n",
              "      <td>wagon</td>\n",
              "      <td>rwd</td>\n",
              "      <td>front</td>\n",
              "      <td>104.3</td>\n",
              "      <td>...</td>\n",
              "      <td>141</td>\n",
              "      <td>mpfi</td>\n",
              "      <td>3.78</td>\n",
              "      <td>3.15</td>\n",
              "      <td>9.5</td>\n",
              "      <td>114</td>\n",
              "      <td>5400</td>\n",
              "      <td>23</td>\n",
              "      <td>28</td>\n",
              "      <td>13415</td>\n",
              "    </tr>\n",
              "    <tr>\n",
              "      <th>196</th>\n",
              "      <td>-2</td>\n",
              "      <td>103</td>\n",
              "      <td>volvo</td>\n",
              "      <td>gas</td>\n",
              "      <td>std</td>\n",
              "      <td>four</td>\n",
              "      <td>sedan</td>\n",
              "      <td>rwd</td>\n",
              "      <td>front</td>\n",
              "      <td>104.3</td>\n",
              "      <td>...</td>\n",
              "      <td>141</td>\n",
              "      <td>mpfi</td>\n",
              "      <td>3.78</td>\n",
              "      <td>3.15</td>\n",
              "      <td>9.5</td>\n",
              "      <td>114</td>\n",
              "      <td>5400</td>\n",
              "      <td>24</td>\n",
              "      <td>28</td>\n",
              "      <td>15985</td>\n",
              "    </tr>\n",
              "    <tr>\n",
              "      <th>197</th>\n",
              "      <td>-1</td>\n",
              "      <td>74</td>\n",
              "      <td>volvo</td>\n",
              "      <td>gas</td>\n",
              "      <td>std</td>\n",
              "      <td>four</td>\n",
              "      <td>wagon</td>\n",
              "      <td>rwd</td>\n",
              "      <td>front</td>\n",
              "      <td>104.3</td>\n",
              "      <td>...</td>\n",
              "      <td>141</td>\n",
              "      <td>mpfi</td>\n",
              "      <td>3.78</td>\n",
              "      <td>3.15</td>\n",
              "      <td>9.5</td>\n",
              "      <td>114</td>\n",
              "      <td>5400</td>\n",
              "      <td>24</td>\n",
              "      <td>28</td>\n",
              "      <td>16515</td>\n",
              "    </tr>\n",
              "    <tr>\n",
              "      <th>198</th>\n",
              "      <td>-2</td>\n",
              "      <td>103</td>\n",
              "      <td>volvo</td>\n",
              "      <td>gas</td>\n",
              "      <td>turbo</td>\n",
              "      <td>four</td>\n",
              "      <td>sedan</td>\n",
              "      <td>rwd</td>\n",
              "      <td>front</td>\n",
              "      <td>104.3</td>\n",
              "      <td>...</td>\n",
              "      <td>130</td>\n",
              "      <td>mpfi</td>\n",
              "      <td>3.62</td>\n",
              "      <td>3.15</td>\n",
              "      <td>7.5</td>\n",
              "      <td>162</td>\n",
              "      <td>5100</td>\n",
              "      <td>17</td>\n",
              "      <td>22</td>\n",
              "      <td>18420</td>\n",
              "    </tr>\n",
              "    <tr>\n",
              "      <th>199</th>\n",
              "      <td>-1</td>\n",
              "      <td>74</td>\n",
              "      <td>volvo</td>\n",
              "      <td>gas</td>\n",
              "      <td>turbo</td>\n",
              "      <td>four</td>\n",
              "      <td>wagon</td>\n",
              "      <td>rwd</td>\n",
              "      <td>front</td>\n",
              "      <td>104.3</td>\n",
              "      <td>...</td>\n",
              "      <td>130</td>\n",
              "      <td>mpfi</td>\n",
              "      <td>3.62</td>\n",
              "      <td>3.15</td>\n",
              "      <td>7.5</td>\n",
              "      <td>162</td>\n",
              "      <td>5100</td>\n",
              "      <td>17</td>\n",
              "      <td>22</td>\n",
              "      <td>18950</td>\n",
              "    </tr>\n",
              "    <tr>\n",
              "      <th>200</th>\n",
              "      <td>-1</td>\n",
              "      <td>95</td>\n",
              "      <td>volvo</td>\n",
              "      <td>gas</td>\n",
              "      <td>std</td>\n",
              "      <td>four</td>\n",
              "      <td>sedan</td>\n",
              "      <td>rwd</td>\n",
              "      <td>front</td>\n",
              "      <td>109.1</td>\n",
              "      <td>...</td>\n",
              "      <td>141</td>\n",
              "      <td>mpfi</td>\n",
              "      <td>3.78</td>\n",
              "      <td>3.15</td>\n",
              "      <td>9.5</td>\n",
              "      <td>114</td>\n",
              "      <td>5400</td>\n",
              "      <td>23</td>\n",
              "      <td>28</td>\n",
              "      <td>16845</td>\n",
              "    </tr>\n",
              "    <tr>\n",
              "      <th>201</th>\n",
              "      <td>-1</td>\n",
              "      <td>95</td>\n",
              "      <td>volvo</td>\n",
              "      <td>gas</td>\n",
              "      <td>turbo</td>\n",
              "      <td>four</td>\n",
              "      <td>sedan</td>\n",
              "      <td>rwd</td>\n",
              "      <td>front</td>\n",
              "      <td>109.1</td>\n",
              "      <td>...</td>\n",
              "      <td>141</td>\n",
              "      <td>mpfi</td>\n",
              "      <td>3.78</td>\n",
              "      <td>3.15</td>\n",
              "      <td>8.7</td>\n",
              "      <td>160</td>\n",
              "      <td>5300</td>\n",
              "      <td>19</td>\n",
              "      <td>25</td>\n",
              "      <td>19045</td>\n",
              "    </tr>\n",
              "    <tr>\n",
              "      <th>202</th>\n",
              "      <td>-1</td>\n",
              "      <td>95</td>\n",
              "      <td>volvo</td>\n",
              "      <td>gas</td>\n",
              "      <td>std</td>\n",
              "      <td>four</td>\n",
              "      <td>sedan</td>\n",
              "      <td>rwd</td>\n",
              "      <td>front</td>\n",
              "      <td>109.1</td>\n",
              "      <td>...</td>\n",
              "      <td>173</td>\n",
              "      <td>mpfi</td>\n",
              "      <td>3.58</td>\n",
              "      <td>2.87</td>\n",
              "      <td>8.8</td>\n",
              "      <td>134</td>\n",
              "      <td>5500</td>\n",
              "      <td>18</td>\n",
              "      <td>23</td>\n",
              "      <td>21485</td>\n",
              "    </tr>\n",
              "    <tr>\n",
              "      <th>203</th>\n",
              "      <td>-1</td>\n",
              "      <td>95</td>\n",
              "      <td>volvo</td>\n",
              "      <td>diesel</td>\n",
              "      <td>turbo</td>\n",
              "      <td>four</td>\n",
              "      <td>sedan</td>\n",
              "      <td>rwd</td>\n",
              "      <td>front</td>\n",
              "      <td>109.1</td>\n",
              "      <td>...</td>\n",
              "      <td>145</td>\n",
              "      <td>idi</td>\n",
              "      <td>3.01</td>\n",
              "      <td>3.40</td>\n",
              "      <td>23.0</td>\n",
              "      <td>106</td>\n",
              "      <td>4800</td>\n",
              "      <td>26</td>\n",
              "      <td>27</td>\n",
              "      <td>22470</td>\n",
              "    </tr>\n",
              "    <tr>\n",
              "      <th>204</th>\n",
              "      <td>-1</td>\n",
              "      <td>95</td>\n",
              "      <td>volvo</td>\n",
              "      <td>gas</td>\n",
              "      <td>turbo</td>\n",
              "      <td>four</td>\n",
              "      <td>sedan</td>\n",
              "      <td>rwd</td>\n",
              "      <td>front</td>\n",
              "      <td>109.1</td>\n",
              "      <td>...</td>\n",
              "      <td>141</td>\n",
              "      <td>mpfi</td>\n",
              "      <td>3.78</td>\n",
              "      <td>3.15</td>\n",
              "      <td>9.5</td>\n",
              "      <td>114</td>\n",
              "      <td>5400</td>\n",
              "      <td>19</td>\n",
              "      <td>25</td>\n",
              "      <td>22625</td>\n",
              "    </tr>\n",
              "  </tbody>\n",
              "</table>\n",
              "<p>10 rows × 26 columns</p>\n",
              "</div>"
            ],
            "text/plain": [
              "     0    1      2       3      4     5      6    7      8      9   ...    \\\n",
              "195  -1   74  volvo     gas    std  four  wagon  rwd  front  104.3  ...     \n",
              "196  -2  103  volvo     gas    std  four  sedan  rwd  front  104.3  ...     \n",
              "197  -1   74  volvo     gas    std  four  wagon  rwd  front  104.3  ...     \n",
              "198  -2  103  volvo     gas  turbo  four  sedan  rwd  front  104.3  ...     \n",
              "199  -1   74  volvo     gas  turbo  four  wagon  rwd  front  104.3  ...     \n",
              "200  -1   95  volvo     gas    std  four  sedan  rwd  front  109.1  ...     \n",
              "201  -1   95  volvo     gas  turbo  four  sedan  rwd  front  109.1  ...     \n",
              "202  -1   95  volvo     gas    std  four  sedan  rwd  front  109.1  ...     \n",
              "203  -1   95  volvo  diesel  turbo  four  sedan  rwd  front  109.1  ...     \n",
              "204  -1   95  volvo     gas  turbo  four  sedan  rwd  front  109.1  ...     \n",
              "\n",
              "      16    17    18    19    20   21    22  23  24     25  \n",
              "195  141  mpfi  3.78  3.15   9.5  114  5400  23  28  13415  \n",
              "196  141  mpfi  3.78  3.15   9.5  114  5400  24  28  15985  \n",
              "197  141  mpfi  3.78  3.15   9.5  114  5400  24  28  16515  \n",
              "198  130  mpfi  3.62  3.15   7.5  162  5100  17  22  18420  \n",
              "199  130  mpfi  3.62  3.15   7.5  162  5100  17  22  18950  \n",
              "200  141  mpfi  3.78  3.15   9.5  114  5400  23  28  16845  \n",
              "201  141  mpfi  3.78  3.15   8.7  160  5300  19  25  19045  \n",
              "202  173  mpfi  3.58  2.87   8.8  134  5500  18  23  21485  \n",
              "203  145   idi  3.01  3.40  23.0  106  4800  26  27  22470  \n",
              "204  141  mpfi  3.78  3.15   9.5  114  5400  19  25  22625  \n",
              "\n",
              "[10 rows x 26 columns]"
            ]
          },
          "metadata": {
            "tags": []
          },
          "execution_count": 38
        }
      ]
    },
    {
      "metadata": {
        "id": "HoBsGL6p2yYU",
        "colab_type": "code",
        "colab": {}
      },
      "cell_type": "code",
      "source": [
        "# create headers list\n",
        "headers = [\"symboling\",\"normalized-losses\",\"make\",\"fuel-type\",\"aspiration\", \"num-of-doors\",\"body-style\",\n",
        "         \"drive-wheels\",\"engine-location\",\"wheel-base\", \"length\",\"width\",\"height\",\"curb-weight\",\"engine-type\",\n",
        "         \"num-of-cylinders\", \"engine-size\",\"fuel-system\",\"bore\",\"stroke\",\"compression-ratio\",\"horsepower\",\n",
        "         \"peak-rpm\",\"city-mpg\",\"highway-mpg\",\"price\"]\n",
        "#headers"
      ],
      "execution_count": 0,
      "outputs": []
    },
    {
      "metadata": {
        "id": "R0EgJQgL21uS",
        "colab_type": "code",
        "colab": {
          "base_uri": "https://localhost:8080/",
          "height": 499
        },
        "outputId": "c681531f-b46d-46fa-eb55-8accf43f2ac6"
      },
      "cell_type": "code",
      "source": [
        "df.columns = headers\n",
        "df.head(10)"
      ],
      "execution_count": 42,
      "outputs": [
        {
          "output_type": "execute_result",
          "data": {
            "text/html": [
              "<div>\n",
              "<style scoped>\n",
              "    .dataframe tbody tr th:only-of-type {\n",
              "        vertical-align: middle;\n",
              "    }\n",
              "\n",
              "    .dataframe tbody tr th {\n",
              "        vertical-align: top;\n",
              "    }\n",
              "\n",
              "    .dataframe thead th {\n",
              "        text-align: right;\n",
              "    }\n",
              "</style>\n",
              "<table border=\"1\" class=\"dataframe\">\n",
              "  <thead>\n",
              "    <tr style=\"text-align: right;\">\n",
              "      <th></th>\n",
              "      <th>symboling</th>\n",
              "      <th>normalized-losses</th>\n",
              "      <th>make</th>\n",
              "      <th>fuel-type</th>\n",
              "      <th>aspiration</th>\n",
              "      <th>num-of-doors</th>\n",
              "      <th>body-style</th>\n",
              "      <th>drive-wheels</th>\n",
              "      <th>engine-location</th>\n",
              "      <th>wheel-base</th>\n",
              "      <th>...</th>\n",
              "      <th>engine-size</th>\n",
              "      <th>fuel-system</th>\n",
              "      <th>bore</th>\n",
              "      <th>stroke</th>\n",
              "      <th>compression-ratio</th>\n",
              "      <th>horsepower</th>\n",
              "      <th>peak-rpm</th>\n",
              "      <th>city-mpg</th>\n",
              "      <th>highway-mpg</th>\n",
              "      <th>price</th>\n",
              "    </tr>\n",
              "  </thead>\n",
              "  <tbody>\n",
              "    <tr>\n",
              "      <th>0</th>\n",
              "      <td>3</td>\n",
              "      <td>?</td>\n",
              "      <td>alfa-romero</td>\n",
              "      <td>gas</td>\n",
              "      <td>std</td>\n",
              "      <td>two</td>\n",
              "      <td>convertible</td>\n",
              "      <td>rwd</td>\n",
              "      <td>front</td>\n",
              "      <td>88.6</td>\n",
              "      <td>...</td>\n",
              "      <td>130</td>\n",
              "      <td>mpfi</td>\n",
              "      <td>3.47</td>\n",
              "      <td>2.68</td>\n",
              "      <td>9.0</td>\n",
              "      <td>111</td>\n",
              "      <td>5000</td>\n",
              "      <td>21</td>\n",
              "      <td>27</td>\n",
              "      <td>13495</td>\n",
              "    </tr>\n",
              "    <tr>\n",
              "      <th>1</th>\n",
              "      <td>3</td>\n",
              "      <td>?</td>\n",
              "      <td>alfa-romero</td>\n",
              "      <td>gas</td>\n",
              "      <td>std</td>\n",
              "      <td>two</td>\n",
              "      <td>convertible</td>\n",
              "      <td>rwd</td>\n",
              "      <td>front</td>\n",
              "      <td>88.6</td>\n",
              "      <td>...</td>\n",
              "      <td>130</td>\n",
              "      <td>mpfi</td>\n",
              "      <td>3.47</td>\n",
              "      <td>2.68</td>\n",
              "      <td>9.0</td>\n",
              "      <td>111</td>\n",
              "      <td>5000</td>\n",
              "      <td>21</td>\n",
              "      <td>27</td>\n",
              "      <td>16500</td>\n",
              "    </tr>\n",
              "    <tr>\n",
              "      <th>2</th>\n",
              "      <td>1</td>\n",
              "      <td>?</td>\n",
              "      <td>alfa-romero</td>\n",
              "      <td>gas</td>\n",
              "      <td>std</td>\n",
              "      <td>two</td>\n",
              "      <td>hatchback</td>\n",
              "      <td>rwd</td>\n",
              "      <td>front</td>\n",
              "      <td>94.5</td>\n",
              "      <td>...</td>\n",
              "      <td>152</td>\n",
              "      <td>mpfi</td>\n",
              "      <td>2.68</td>\n",
              "      <td>3.47</td>\n",
              "      <td>9.0</td>\n",
              "      <td>154</td>\n",
              "      <td>5000</td>\n",
              "      <td>19</td>\n",
              "      <td>26</td>\n",
              "      <td>16500</td>\n",
              "    </tr>\n",
              "    <tr>\n",
              "      <th>3</th>\n",
              "      <td>2</td>\n",
              "      <td>164</td>\n",
              "      <td>audi</td>\n",
              "      <td>gas</td>\n",
              "      <td>std</td>\n",
              "      <td>four</td>\n",
              "      <td>sedan</td>\n",
              "      <td>fwd</td>\n",
              "      <td>front</td>\n",
              "      <td>99.8</td>\n",
              "      <td>...</td>\n",
              "      <td>109</td>\n",
              "      <td>mpfi</td>\n",
              "      <td>3.19</td>\n",
              "      <td>3.40</td>\n",
              "      <td>10.0</td>\n",
              "      <td>102</td>\n",
              "      <td>5500</td>\n",
              "      <td>24</td>\n",
              "      <td>30</td>\n",
              "      <td>13950</td>\n",
              "    </tr>\n",
              "    <tr>\n",
              "      <th>4</th>\n",
              "      <td>2</td>\n",
              "      <td>164</td>\n",
              "      <td>audi</td>\n",
              "      <td>gas</td>\n",
              "      <td>std</td>\n",
              "      <td>four</td>\n",
              "      <td>sedan</td>\n",
              "      <td>4wd</td>\n",
              "      <td>front</td>\n",
              "      <td>99.4</td>\n",
              "      <td>...</td>\n",
              "      <td>136</td>\n",
              "      <td>mpfi</td>\n",
              "      <td>3.19</td>\n",
              "      <td>3.40</td>\n",
              "      <td>8.0</td>\n",
              "      <td>115</td>\n",
              "      <td>5500</td>\n",
              "      <td>18</td>\n",
              "      <td>22</td>\n",
              "      <td>17450</td>\n",
              "    </tr>\n",
              "    <tr>\n",
              "      <th>5</th>\n",
              "      <td>2</td>\n",
              "      <td>?</td>\n",
              "      <td>audi</td>\n",
              "      <td>gas</td>\n",
              "      <td>std</td>\n",
              "      <td>two</td>\n",
              "      <td>sedan</td>\n",
              "      <td>fwd</td>\n",
              "      <td>front</td>\n",
              "      <td>99.8</td>\n",
              "      <td>...</td>\n",
              "      <td>136</td>\n",
              "      <td>mpfi</td>\n",
              "      <td>3.19</td>\n",
              "      <td>3.40</td>\n",
              "      <td>8.5</td>\n",
              "      <td>110</td>\n",
              "      <td>5500</td>\n",
              "      <td>19</td>\n",
              "      <td>25</td>\n",
              "      <td>15250</td>\n",
              "    </tr>\n",
              "    <tr>\n",
              "      <th>6</th>\n",
              "      <td>1</td>\n",
              "      <td>158</td>\n",
              "      <td>audi</td>\n",
              "      <td>gas</td>\n",
              "      <td>std</td>\n",
              "      <td>four</td>\n",
              "      <td>sedan</td>\n",
              "      <td>fwd</td>\n",
              "      <td>front</td>\n",
              "      <td>105.8</td>\n",
              "      <td>...</td>\n",
              "      <td>136</td>\n",
              "      <td>mpfi</td>\n",
              "      <td>3.19</td>\n",
              "      <td>3.40</td>\n",
              "      <td>8.5</td>\n",
              "      <td>110</td>\n",
              "      <td>5500</td>\n",
              "      <td>19</td>\n",
              "      <td>25</td>\n",
              "      <td>17710</td>\n",
              "    </tr>\n",
              "    <tr>\n",
              "      <th>7</th>\n",
              "      <td>1</td>\n",
              "      <td>?</td>\n",
              "      <td>audi</td>\n",
              "      <td>gas</td>\n",
              "      <td>std</td>\n",
              "      <td>four</td>\n",
              "      <td>wagon</td>\n",
              "      <td>fwd</td>\n",
              "      <td>front</td>\n",
              "      <td>105.8</td>\n",
              "      <td>...</td>\n",
              "      <td>136</td>\n",
              "      <td>mpfi</td>\n",
              "      <td>3.19</td>\n",
              "      <td>3.40</td>\n",
              "      <td>8.5</td>\n",
              "      <td>110</td>\n",
              "      <td>5500</td>\n",
              "      <td>19</td>\n",
              "      <td>25</td>\n",
              "      <td>18920</td>\n",
              "    </tr>\n",
              "    <tr>\n",
              "      <th>8</th>\n",
              "      <td>1</td>\n",
              "      <td>158</td>\n",
              "      <td>audi</td>\n",
              "      <td>gas</td>\n",
              "      <td>turbo</td>\n",
              "      <td>four</td>\n",
              "      <td>sedan</td>\n",
              "      <td>fwd</td>\n",
              "      <td>front</td>\n",
              "      <td>105.8</td>\n",
              "      <td>...</td>\n",
              "      <td>131</td>\n",
              "      <td>mpfi</td>\n",
              "      <td>3.13</td>\n",
              "      <td>3.40</td>\n",
              "      <td>8.3</td>\n",
              "      <td>140</td>\n",
              "      <td>5500</td>\n",
              "      <td>17</td>\n",
              "      <td>20</td>\n",
              "      <td>23875</td>\n",
              "    </tr>\n",
              "    <tr>\n",
              "      <th>9</th>\n",
              "      <td>0</td>\n",
              "      <td>?</td>\n",
              "      <td>audi</td>\n",
              "      <td>gas</td>\n",
              "      <td>turbo</td>\n",
              "      <td>two</td>\n",
              "      <td>hatchback</td>\n",
              "      <td>4wd</td>\n",
              "      <td>front</td>\n",
              "      <td>99.5</td>\n",
              "      <td>...</td>\n",
              "      <td>131</td>\n",
              "      <td>mpfi</td>\n",
              "      <td>3.13</td>\n",
              "      <td>3.40</td>\n",
              "      <td>7.0</td>\n",
              "      <td>160</td>\n",
              "      <td>5500</td>\n",
              "      <td>16</td>\n",
              "      <td>22</td>\n",
              "      <td>?</td>\n",
              "    </tr>\n",
              "  </tbody>\n",
              "</table>\n",
              "<p>10 rows × 26 columns</p>\n",
              "</div>"
            ],
            "text/plain": [
              "   symboling normalized-losses         make fuel-type aspiration num-of-doors  \\\n",
              "0          3                 ?  alfa-romero       gas        std          two   \n",
              "1          3                 ?  alfa-romero       gas        std          two   \n",
              "2          1                 ?  alfa-romero       gas        std          two   \n",
              "3          2               164         audi       gas        std         four   \n",
              "4          2               164         audi       gas        std         four   \n",
              "5          2                 ?         audi       gas        std          two   \n",
              "6          1               158         audi       gas        std         four   \n",
              "7          1                 ?         audi       gas        std         four   \n",
              "8          1               158         audi       gas      turbo         four   \n",
              "9          0                 ?         audi       gas      turbo          two   \n",
              "\n",
              "    body-style drive-wheels engine-location  wheel-base  ...    engine-size  \\\n",
              "0  convertible          rwd           front        88.6  ...            130   \n",
              "1  convertible          rwd           front        88.6  ...            130   \n",
              "2    hatchback          rwd           front        94.5  ...            152   \n",
              "3        sedan          fwd           front        99.8  ...            109   \n",
              "4        sedan          4wd           front        99.4  ...            136   \n",
              "5        sedan          fwd           front        99.8  ...            136   \n",
              "6        sedan          fwd           front       105.8  ...            136   \n",
              "7        wagon          fwd           front       105.8  ...            136   \n",
              "8        sedan          fwd           front       105.8  ...            131   \n",
              "9    hatchback          4wd           front        99.5  ...            131   \n",
              "\n",
              "   fuel-system  bore  stroke compression-ratio horsepower  peak-rpm city-mpg  \\\n",
              "0         mpfi  3.47    2.68               9.0        111      5000       21   \n",
              "1         mpfi  3.47    2.68               9.0        111      5000       21   \n",
              "2         mpfi  2.68    3.47               9.0        154      5000       19   \n",
              "3         mpfi  3.19    3.40              10.0        102      5500       24   \n",
              "4         mpfi  3.19    3.40               8.0        115      5500       18   \n",
              "5         mpfi  3.19    3.40               8.5        110      5500       19   \n",
              "6         mpfi  3.19    3.40               8.5        110      5500       19   \n",
              "7         mpfi  3.19    3.40               8.5        110      5500       19   \n",
              "8         mpfi  3.13    3.40               8.3        140      5500       17   \n",
              "9         mpfi  3.13    3.40               7.0        160      5500       16   \n",
              "\n",
              "  highway-mpg  price  \n",
              "0          27  13495  \n",
              "1          27  16500  \n",
              "2          26  16500  \n",
              "3          30  13950  \n",
              "4          22  17450  \n",
              "5          25  15250  \n",
              "6          25  17710  \n",
              "7          25  18920  \n",
              "8          20  23875  \n",
              "9          22      ?  \n",
              "\n",
              "[10 rows x 26 columns]"
            ]
          },
          "metadata": {
            "tags": []
          },
          "execution_count": 42
        }
      ]
    },
    {
      "metadata": {
        "id": "VbOS6tYc25g6",
        "colab_type": "code",
        "colab": {}
      },
      "cell_type": "code",
      "source": [
        "#we can drop missing values along the column \"price\" as follows \n",
        "df.dropna(subset=[\"price\"], axis=0)\n"
      ],
      "execution_count": 0,
      "outputs": []
    },
    {
      "metadata": {
        "id": "1IuINssW3HTY",
        "colab_type": "code",
        "colab": {
          "base_uri": "https://localhost:8080/",
          "height": 300
        },
        "outputId": "71718285-6da2-49aa-ba4b-c0cbcb5b9dc0"
      },
      "cell_type": "code",
      "source": [
        "df.describe()\n"
      ],
      "execution_count": 43,
      "outputs": [
        {
          "output_type": "execute_result",
          "data": {
            "text/html": [
              "<div>\n",
              "<style scoped>\n",
              "    .dataframe tbody tr th:only-of-type {\n",
              "        vertical-align: middle;\n",
              "    }\n",
              "\n",
              "    .dataframe tbody tr th {\n",
              "        vertical-align: top;\n",
              "    }\n",
              "\n",
              "    .dataframe thead th {\n",
              "        text-align: right;\n",
              "    }\n",
              "</style>\n",
              "<table border=\"1\" class=\"dataframe\">\n",
              "  <thead>\n",
              "    <tr style=\"text-align: right;\">\n",
              "      <th></th>\n",
              "      <th>symboling</th>\n",
              "      <th>wheel-base</th>\n",
              "      <th>length</th>\n",
              "      <th>width</th>\n",
              "      <th>height</th>\n",
              "      <th>curb-weight</th>\n",
              "      <th>engine-size</th>\n",
              "      <th>compression-ratio</th>\n",
              "      <th>city-mpg</th>\n",
              "      <th>highway-mpg</th>\n",
              "    </tr>\n",
              "  </thead>\n",
              "  <tbody>\n",
              "    <tr>\n",
              "      <th>count</th>\n",
              "      <td>205.000000</td>\n",
              "      <td>205.000000</td>\n",
              "      <td>205.000000</td>\n",
              "      <td>205.000000</td>\n",
              "      <td>205.000000</td>\n",
              "      <td>205.000000</td>\n",
              "      <td>205.000000</td>\n",
              "      <td>205.000000</td>\n",
              "      <td>205.000000</td>\n",
              "      <td>205.000000</td>\n",
              "    </tr>\n",
              "    <tr>\n",
              "      <th>mean</th>\n",
              "      <td>0.834146</td>\n",
              "      <td>98.756585</td>\n",
              "      <td>174.049268</td>\n",
              "      <td>65.907805</td>\n",
              "      <td>53.724878</td>\n",
              "      <td>2555.565854</td>\n",
              "      <td>126.907317</td>\n",
              "      <td>10.142537</td>\n",
              "      <td>25.219512</td>\n",
              "      <td>30.751220</td>\n",
              "    </tr>\n",
              "    <tr>\n",
              "      <th>std</th>\n",
              "      <td>1.245307</td>\n",
              "      <td>6.021776</td>\n",
              "      <td>12.337289</td>\n",
              "      <td>2.145204</td>\n",
              "      <td>2.443522</td>\n",
              "      <td>520.680204</td>\n",
              "      <td>41.642693</td>\n",
              "      <td>3.972040</td>\n",
              "      <td>6.542142</td>\n",
              "      <td>6.886443</td>\n",
              "    </tr>\n",
              "    <tr>\n",
              "      <th>min</th>\n",
              "      <td>-2.000000</td>\n",
              "      <td>86.600000</td>\n",
              "      <td>141.100000</td>\n",
              "      <td>60.300000</td>\n",
              "      <td>47.800000</td>\n",
              "      <td>1488.000000</td>\n",
              "      <td>61.000000</td>\n",
              "      <td>7.000000</td>\n",
              "      <td>13.000000</td>\n",
              "      <td>16.000000</td>\n",
              "    </tr>\n",
              "    <tr>\n",
              "      <th>25%</th>\n",
              "      <td>0.000000</td>\n",
              "      <td>94.500000</td>\n",
              "      <td>166.300000</td>\n",
              "      <td>64.100000</td>\n",
              "      <td>52.000000</td>\n",
              "      <td>2145.000000</td>\n",
              "      <td>97.000000</td>\n",
              "      <td>8.600000</td>\n",
              "      <td>19.000000</td>\n",
              "      <td>25.000000</td>\n",
              "    </tr>\n",
              "    <tr>\n",
              "      <th>50%</th>\n",
              "      <td>1.000000</td>\n",
              "      <td>97.000000</td>\n",
              "      <td>173.200000</td>\n",
              "      <td>65.500000</td>\n",
              "      <td>54.100000</td>\n",
              "      <td>2414.000000</td>\n",
              "      <td>120.000000</td>\n",
              "      <td>9.000000</td>\n",
              "      <td>24.000000</td>\n",
              "      <td>30.000000</td>\n",
              "    </tr>\n",
              "    <tr>\n",
              "      <th>75%</th>\n",
              "      <td>2.000000</td>\n",
              "      <td>102.400000</td>\n",
              "      <td>183.100000</td>\n",
              "      <td>66.900000</td>\n",
              "      <td>55.500000</td>\n",
              "      <td>2935.000000</td>\n",
              "      <td>141.000000</td>\n",
              "      <td>9.400000</td>\n",
              "      <td>30.000000</td>\n",
              "      <td>34.000000</td>\n",
              "    </tr>\n",
              "    <tr>\n",
              "      <th>max</th>\n",
              "      <td>3.000000</td>\n",
              "      <td>120.900000</td>\n",
              "      <td>208.100000</td>\n",
              "      <td>72.300000</td>\n",
              "      <td>59.800000</td>\n",
              "      <td>4066.000000</td>\n",
              "      <td>326.000000</td>\n",
              "      <td>23.000000</td>\n",
              "      <td>49.000000</td>\n",
              "      <td>54.000000</td>\n",
              "    </tr>\n",
              "  </tbody>\n",
              "</table>\n",
              "</div>"
            ],
            "text/plain": [
              "        symboling  wheel-base      length       width      height  \\\n",
              "count  205.000000  205.000000  205.000000  205.000000  205.000000   \n",
              "mean     0.834146   98.756585  174.049268   65.907805   53.724878   \n",
              "std      1.245307    6.021776   12.337289    2.145204    2.443522   \n",
              "min     -2.000000   86.600000  141.100000   60.300000   47.800000   \n",
              "25%      0.000000   94.500000  166.300000   64.100000   52.000000   \n",
              "50%      1.000000   97.000000  173.200000   65.500000   54.100000   \n",
              "75%      2.000000  102.400000  183.100000   66.900000   55.500000   \n",
              "max      3.000000  120.900000  208.100000   72.300000   59.800000   \n",
              "\n",
              "       curb-weight  engine-size  compression-ratio    city-mpg  highway-mpg  \n",
              "count   205.000000   205.000000         205.000000  205.000000   205.000000  \n",
              "mean   2555.565854   126.907317          10.142537   25.219512    30.751220  \n",
              "std     520.680204    41.642693           3.972040    6.542142     6.886443  \n",
              "min    1488.000000    61.000000           7.000000   13.000000    16.000000  \n",
              "25%    2145.000000    97.000000           8.600000   19.000000    25.000000  \n",
              "50%    2414.000000   120.000000           9.000000   24.000000    30.000000  \n",
              "75%    2935.000000   141.000000           9.400000   30.000000    34.000000  \n",
              "max    4066.000000   326.000000          23.000000   49.000000    54.000000  "
            ]
          },
          "metadata": {
            "tags": []
          },
          "execution_count": 43
        }
      ]
    },
    {
      "metadata": {
        "id": "P-Ivnq_W3IPF",
        "colab_type": "code",
        "colab": {
          "base_uri": "https://localhost:8080/",
          "height": 513
        },
        "outputId": "4b95fe73-3c99-4f7b-8097-7863c3575f9e"
      },
      "cell_type": "code",
      "source": [
        "# check the data type of data frame \"df\" by .dtypes\n",
        "df.dtypes"
      ],
      "execution_count": 44,
      "outputs": [
        {
          "output_type": "execute_result",
          "data": {
            "text/plain": [
              "symboling              int64\n",
              "normalized-losses     object\n",
              "make                  object\n",
              "fuel-type             object\n",
              "aspiration            object\n",
              "num-of-doors          object\n",
              "body-style            object\n",
              "drive-wheels          object\n",
              "engine-location       object\n",
              "wheel-base           float64\n",
              "length               float64\n",
              "width                float64\n",
              "height               float64\n",
              "curb-weight            int64\n",
              "engine-type           object\n",
              "num-of-cylinders      object\n",
              "engine-size            int64\n",
              "fuel-system           object\n",
              "bore                  object\n",
              "stroke                object\n",
              "compression-ratio    float64\n",
              "horsepower            object\n",
              "peak-rpm              object\n",
              "city-mpg               int64\n",
              "highway-mpg            int64\n",
              "price                 object\n",
              "dtype: object"
            ]
          },
          "metadata": {
            "tags": []
          },
          "execution_count": 44
        }
      ]
    },
    {
      "metadata": {
        "id": "VrsTP-kCnQ1D",
        "colab_type": "code",
        "colab": {
          "base_uri": "https://localhost:8080/",
          "height": 35
        },
        "outputId": "c420fa9a-d8c5-493f-9726-d34ac0f4a567"
      },
      "cell_type": "code",
      "source": [
        "a = '1'\n",
        "type(a)"
      ],
      "execution_count": 45,
      "outputs": [
        {
          "output_type": "execute_result",
          "data": {
            "text/plain": [
              "str"
            ]
          },
          "metadata": {
            "tags": []
          },
          "execution_count": 45
        }
      ]
    },
    {
      "metadata": {
        "id": "qKDaW-PjnSDO",
        "colab_type": "code",
        "colab": {
          "base_uri": "https://localhost:8080/",
          "height": 35
        },
        "outputId": "f8430f9f-be3e-4386-c286-a4c2a81aa09e"
      },
      "cell_type": "code",
      "source": [
        "type(int(a))"
      ],
      "execution_count": 46,
      "outputs": [
        {
          "output_type": "execute_result",
          "data": {
            "text/plain": [
              "int"
            ]
          },
          "metadata": {
            "tags": []
          },
          "execution_count": 46
        }
      ]
    },
    {
      "metadata": {
        "id": "pl8GUXyG3NjM",
        "colab_type": "code",
        "colab": {}
      },
      "cell_type": "code",
      "source": [
        "# describe all the columns in \"df\" \n",
        "df.describe(include = \"all\")"
      ],
      "execution_count": 0,
      "outputs": []
    },
    {
      "metadata": {
        "id": "I7w7PwYI3S_n",
        "colab_type": "code",
        "colab": {
          "base_uri": "https://localhost:8080/",
          "height": 300
        },
        "outputId": "f555832a-a6c4-496a-9f6b-fc5f050244e5"
      },
      "cell_type": "code",
      "source": [
        "df[['length','compression-ratio']].describe()"
      ],
      "execution_count": 47,
      "outputs": [
        {
          "output_type": "execute_result",
          "data": {
            "text/html": [
              "<div>\n",
              "<style scoped>\n",
              "    .dataframe tbody tr th:only-of-type {\n",
              "        vertical-align: middle;\n",
              "    }\n",
              "\n",
              "    .dataframe tbody tr th {\n",
              "        vertical-align: top;\n",
              "    }\n",
              "\n",
              "    .dataframe thead th {\n",
              "        text-align: right;\n",
              "    }\n",
              "</style>\n",
              "<table border=\"1\" class=\"dataframe\">\n",
              "  <thead>\n",
              "    <tr style=\"text-align: right;\">\n",
              "      <th></th>\n",
              "      <th>length</th>\n",
              "      <th>compression-ratio</th>\n",
              "    </tr>\n",
              "  </thead>\n",
              "  <tbody>\n",
              "    <tr>\n",
              "      <th>count</th>\n",
              "      <td>205.000000</td>\n",
              "      <td>205.000000</td>\n",
              "    </tr>\n",
              "    <tr>\n",
              "      <th>mean</th>\n",
              "      <td>174.049268</td>\n",
              "      <td>10.142537</td>\n",
              "    </tr>\n",
              "    <tr>\n",
              "      <th>std</th>\n",
              "      <td>12.337289</td>\n",
              "      <td>3.972040</td>\n",
              "    </tr>\n",
              "    <tr>\n",
              "      <th>min</th>\n",
              "      <td>141.100000</td>\n",
              "      <td>7.000000</td>\n",
              "    </tr>\n",
              "    <tr>\n",
              "      <th>25%</th>\n",
              "      <td>166.300000</td>\n",
              "      <td>8.600000</td>\n",
              "    </tr>\n",
              "    <tr>\n",
              "      <th>50%</th>\n",
              "      <td>173.200000</td>\n",
              "      <td>9.000000</td>\n",
              "    </tr>\n",
              "    <tr>\n",
              "      <th>75%</th>\n",
              "      <td>183.100000</td>\n",
              "      <td>9.400000</td>\n",
              "    </tr>\n",
              "    <tr>\n",
              "      <th>max</th>\n",
              "      <td>208.100000</td>\n",
              "      <td>23.000000</td>\n",
              "    </tr>\n",
              "  </tbody>\n",
              "</table>\n",
              "</div>"
            ],
            "text/plain": [
              "           length  compression-ratio\n",
              "count  205.000000         205.000000\n",
              "mean   174.049268          10.142537\n",
              "std     12.337289           3.972040\n",
              "min    141.100000           7.000000\n",
              "25%    166.300000           8.600000\n",
              "50%    173.200000           9.000000\n",
              "75%    183.100000           9.400000\n",
              "max    208.100000          23.000000"
            ]
          },
          "metadata": {
            "tags": []
          },
          "execution_count": 47
        }
      ]
    },
    {
      "metadata": {
        "id": "qmr-5eAa3USa",
        "colab_type": "code",
        "colab": {
          "base_uri": "https://localhost:8080/",
          "height": 4664
        },
        "outputId": "0935a2cd-b8b5-428c-e04d-d971536329a2"
      },
      "cell_type": "code",
      "source": [
        "# look at the info of \"df\"\n",
        "df.info"
      ],
      "execution_count": 48,
      "outputs": [
        {
          "output_type": "execute_result",
          "data": {
            "text/plain": [
              "<bound method DataFrame.info of      symboling normalized-losses         make fuel-type aspiration  \\\n",
              "0            3                 ?  alfa-romero       gas        std   \n",
              "1            3                 ?  alfa-romero       gas        std   \n",
              "2            1                 ?  alfa-romero       gas        std   \n",
              "3            2               164         audi       gas        std   \n",
              "4            2               164         audi       gas        std   \n",
              "5            2                 ?         audi       gas        std   \n",
              "6            1               158         audi       gas        std   \n",
              "7            1                 ?         audi       gas        std   \n",
              "8            1               158         audi       gas      turbo   \n",
              "9            0                 ?         audi       gas      turbo   \n",
              "10           2               192          bmw       gas        std   \n",
              "11           0               192          bmw       gas        std   \n",
              "12           0               188          bmw       gas        std   \n",
              "13           0               188          bmw       gas        std   \n",
              "14           1                 ?          bmw       gas        std   \n",
              "15           0                 ?          bmw       gas        std   \n",
              "16           0                 ?          bmw       gas        std   \n",
              "17           0                 ?          bmw       gas        std   \n",
              "18           2               121    chevrolet       gas        std   \n",
              "19           1                98    chevrolet       gas        std   \n",
              "20           0                81    chevrolet       gas        std   \n",
              "21           1               118        dodge       gas        std   \n",
              "22           1               118        dodge       gas        std   \n",
              "23           1               118        dodge       gas      turbo   \n",
              "24           1               148        dodge       gas        std   \n",
              "25           1               148        dodge       gas        std   \n",
              "26           1               148        dodge       gas        std   \n",
              "27           1               148        dodge       gas      turbo   \n",
              "28          -1               110        dodge       gas        std   \n",
              "29           3               145        dodge       gas      turbo   \n",
              "..         ...               ...          ...       ...        ...   \n",
              "175         -1                65       toyota       gas        std   \n",
              "176         -1                65       toyota       gas        std   \n",
              "177         -1                65       toyota       gas        std   \n",
              "178          3               197       toyota       gas        std   \n",
              "179          3               197       toyota       gas        std   \n",
              "180         -1                90       toyota       gas        std   \n",
              "181         -1                 ?       toyota       gas        std   \n",
              "182          2               122   volkswagen    diesel        std   \n",
              "183          2               122   volkswagen       gas        std   \n",
              "184          2                94   volkswagen    diesel        std   \n",
              "185          2                94   volkswagen       gas        std   \n",
              "186          2                94   volkswagen       gas        std   \n",
              "187          2                94   volkswagen    diesel      turbo   \n",
              "188          2                94   volkswagen       gas        std   \n",
              "189          3                 ?   volkswagen       gas        std   \n",
              "190          3               256   volkswagen       gas        std   \n",
              "191          0                 ?   volkswagen       gas        std   \n",
              "192          0                 ?   volkswagen    diesel      turbo   \n",
              "193          0                 ?   volkswagen       gas        std   \n",
              "194         -2               103        volvo       gas        std   \n",
              "195         -1                74        volvo       gas        std   \n",
              "196         -2               103        volvo       gas        std   \n",
              "197         -1                74        volvo       gas        std   \n",
              "198         -2               103        volvo       gas      turbo   \n",
              "199         -1                74        volvo       gas      turbo   \n",
              "200         -1                95        volvo       gas        std   \n",
              "201         -1                95        volvo       gas      turbo   \n",
              "202         -1                95        volvo       gas        std   \n",
              "203         -1                95        volvo    diesel      turbo   \n",
              "204         -1                95        volvo       gas      turbo   \n",
              "\n",
              "    num-of-doors   body-style drive-wheels engine-location  wheel-base  ...    \\\n",
              "0            two  convertible          rwd           front        88.6  ...     \n",
              "1            two  convertible          rwd           front        88.6  ...     \n",
              "2            two    hatchback          rwd           front        94.5  ...     \n",
              "3           four        sedan          fwd           front        99.8  ...     \n",
              "4           four        sedan          4wd           front        99.4  ...     \n",
              "5            two        sedan          fwd           front        99.8  ...     \n",
              "6           four        sedan          fwd           front       105.8  ...     \n",
              "7           four        wagon          fwd           front       105.8  ...     \n",
              "8           four        sedan          fwd           front       105.8  ...     \n",
              "9            two    hatchback          4wd           front        99.5  ...     \n",
              "10           two        sedan          rwd           front       101.2  ...     \n",
              "11          four        sedan          rwd           front       101.2  ...     \n",
              "12           two        sedan          rwd           front       101.2  ...     \n",
              "13          four        sedan          rwd           front       101.2  ...     \n",
              "14          four        sedan          rwd           front       103.5  ...     \n",
              "15          four        sedan          rwd           front       103.5  ...     \n",
              "16           two        sedan          rwd           front       103.5  ...     \n",
              "17          four        sedan          rwd           front       110.0  ...     \n",
              "18           two    hatchback          fwd           front        88.4  ...     \n",
              "19           two    hatchback          fwd           front        94.5  ...     \n",
              "20          four        sedan          fwd           front        94.5  ...     \n",
              "21           two    hatchback          fwd           front        93.7  ...     \n",
              "22           two    hatchback          fwd           front        93.7  ...     \n",
              "23           two    hatchback          fwd           front        93.7  ...     \n",
              "24          four    hatchback          fwd           front        93.7  ...     \n",
              "25          four        sedan          fwd           front        93.7  ...     \n",
              "26          four        sedan          fwd           front        93.7  ...     \n",
              "27             ?        sedan          fwd           front        93.7  ...     \n",
              "28          four        wagon          fwd           front       103.3  ...     \n",
              "29           two    hatchback          fwd           front        95.9  ...     \n",
              "..           ...          ...          ...             ...         ...  ...     \n",
              "175         four    hatchback          fwd           front       102.4  ...     \n",
              "176         four        sedan          fwd           front       102.4  ...     \n",
              "177         four    hatchback          fwd           front       102.4  ...     \n",
              "178          two    hatchback          rwd           front       102.9  ...     \n",
              "179          two    hatchback          rwd           front       102.9  ...     \n",
              "180         four        sedan          rwd           front       104.5  ...     \n",
              "181         four        wagon          rwd           front       104.5  ...     \n",
              "182          two        sedan          fwd           front        97.3  ...     \n",
              "183          two        sedan          fwd           front        97.3  ...     \n",
              "184         four        sedan          fwd           front        97.3  ...     \n",
              "185         four        sedan          fwd           front        97.3  ...     \n",
              "186         four        sedan          fwd           front        97.3  ...     \n",
              "187         four        sedan          fwd           front        97.3  ...     \n",
              "188         four        sedan          fwd           front        97.3  ...     \n",
              "189          two  convertible          fwd           front        94.5  ...     \n",
              "190          two    hatchback          fwd           front        94.5  ...     \n",
              "191         four        sedan          fwd           front       100.4  ...     \n",
              "192         four        sedan          fwd           front       100.4  ...     \n",
              "193         four        wagon          fwd           front       100.4  ...     \n",
              "194         four        sedan          rwd           front       104.3  ...     \n",
              "195         four        wagon          rwd           front       104.3  ...     \n",
              "196         four        sedan          rwd           front       104.3  ...     \n",
              "197         four        wagon          rwd           front       104.3  ...     \n",
              "198         four        sedan          rwd           front       104.3  ...     \n",
              "199         four        wagon          rwd           front       104.3  ...     \n",
              "200         four        sedan          rwd           front       109.1  ...     \n",
              "201         four        sedan          rwd           front       109.1  ...     \n",
              "202         four        sedan          rwd           front       109.1  ...     \n",
              "203         four        sedan          rwd           front       109.1  ...     \n",
              "204         four        sedan          rwd           front       109.1  ...     \n",
              "\n",
              "     engine-size  fuel-system  bore  stroke compression-ratio horsepower  \\\n",
              "0            130         mpfi  3.47    2.68              9.00        111   \n",
              "1            130         mpfi  3.47    2.68              9.00        111   \n",
              "2            152         mpfi  2.68    3.47              9.00        154   \n",
              "3            109         mpfi  3.19    3.40             10.00        102   \n",
              "4            136         mpfi  3.19    3.40              8.00        115   \n",
              "5            136         mpfi  3.19    3.40              8.50        110   \n",
              "6            136         mpfi  3.19    3.40              8.50        110   \n",
              "7            136         mpfi  3.19    3.40              8.50        110   \n",
              "8            131         mpfi  3.13    3.40              8.30        140   \n",
              "9            131         mpfi  3.13    3.40              7.00        160   \n",
              "10           108         mpfi  3.50    2.80              8.80        101   \n",
              "11           108         mpfi  3.50    2.80              8.80        101   \n",
              "12           164         mpfi  3.31    3.19              9.00        121   \n",
              "13           164         mpfi  3.31    3.19              9.00        121   \n",
              "14           164         mpfi  3.31    3.19              9.00        121   \n",
              "15           209         mpfi  3.62    3.39              8.00        182   \n",
              "16           209         mpfi  3.62    3.39              8.00        182   \n",
              "17           209         mpfi  3.62    3.39              8.00        182   \n",
              "18            61         2bbl  2.91    3.03              9.50         48   \n",
              "19            90         2bbl  3.03    3.11              9.60         70   \n",
              "20            90         2bbl  3.03    3.11              9.60         70   \n",
              "21            90         2bbl  2.97    3.23              9.41         68   \n",
              "22            90         2bbl  2.97    3.23              9.40         68   \n",
              "23            98         mpfi  3.03    3.39              7.60        102   \n",
              "24            90         2bbl  2.97    3.23              9.40         68   \n",
              "25            90         2bbl  2.97    3.23              9.40         68   \n",
              "26            90         2bbl  2.97    3.23              9.40         68   \n",
              "27            98         mpfi  3.03    3.39              7.60        102   \n",
              "28           122         2bbl  3.34    3.46              8.50         88   \n",
              "29           156          mfi  3.60    3.90              7.00        145   \n",
              "..           ...          ...   ...     ...               ...        ...   \n",
              "175          122         mpfi  3.31    3.54              8.70         92   \n",
              "176          122         mpfi  3.31    3.54              8.70         92   \n",
              "177          122         mpfi  3.31    3.54              8.70         92   \n",
              "178          171         mpfi  3.27    3.35              9.30        161   \n",
              "179          171         mpfi  3.27    3.35              9.30        161   \n",
              "180          171         mpfi  3.27    3.35              9.20        156   \n",
              "181          161         mpfi  3.27    3.35              9.20        156   \n",
              "182           97          idi  3.01    3.40             23.00         52   \n",
              "183          109         mpfi  3.19    3.40              9.00         85   \n",
              "184           97          idi  3.01    3.40             23.00         52   \n",
              "185          109         mpfi  3.19    3.40              9.00         85   \n",
              "186          109         mpfi  3.19    3.40              9.00         85   \n",
              "187           97          idi  3.01    3.40             23.00         68   \n",
              "188          109         mpfi  3.19    3.40             10.00        100   \n",
              "189          109         mpfi  3.19    3.40              8.50         90   \n",
              "190          109         mpfi  3.19    3.40              8.50         90   \n",
              "191          136         mpfi  3.19    3.40              8.50        110   \n",
              "192           97          idi  3.01    3.40             23.00         68   \n",
              "193          109         mpfi  3.19    3.40              9.00         88   \n",
              "194          141         mpfi  3.78    3.15              9.50        114   \n",
              "195          141         mpfi  3.78    3.15              9.50        114   \n",
              "196          141         mpfi  3.78    3.15              9.50        114   \n",
              "197          141         mpfi  3.78    3.15              9.50        114   \n",
              "198          130         mpfi  3.62    3.15              7.50        162   \n",
              "199          130         mpfi  3.62    3.15              7.50        162   \n",
              "200          141         mpfi  3.78    3.15              9.50        114   \n",
              "201          141         mpfi  3.78    3.15              8.70        160   \n",
              "202          173         mpfi  3.58    2.87              8.80        134   \n",
              "203          145          idi  3.01    3.40             23.00        106   \n",
              "204          141         mpfi  3.78    3.15              9.50        114   \n",
              "\n",
              "     peak-rpm city-mpg highway-mpg  price  \n",
              "0        5000       21          27  13495  \n",
              "1        5000       21          27  16500  \n",
              "2        5000       19          26  16500  \n",
              "3        5500       24          30  13950  \n",
              "4        5500       18          22  17450  \n",
              "5        5500       19          25  15250  \n",
              "6        5500       19          25  17710  \n",
              "7        5500       19          25  18920  \n",
              "8        5500       17          20  23875  \n",
              "9        5500       16          22      ?  \n",
              "10       5800       23          29  16430  \n",
              "11       5800       23          29  16925  \n",
              "12       4250       21          28  20970  \n",
              "13       4250       21          28  21105  \n",
              "14       4250       20          25  24565  \n",
              "15       5400       16          22  30760  \n",
              "16       5400       16          22  41315  \n",
              "17       5400       15          20  36880  \n",
              "18       5100       47          53   5151  \n",
              "19       5400       38          43   6295  \n",
              "20       5400       38          43   6575  \n",
              "21       5500       37          41   5572  \n",
              "22       5500       31          38   6377  \n",
              "23       5500       24          30   7957  \n",
              "24       5500       31          38   6229  \n",
              "25       5500       31          38   6692  \n",
              "26       5500       31          38   7609  \n",
              "27       5500       24          30   8558  \n",
              "28       5000       24          30   8921  \n",
              "29       5000       19          24  12964  \n",
              "..        ...      ...         ...    ...  \n",
              "175      4200       27          32   9988  \n",
              "176      4200       27          32  10898  \n",
              "177      4200       27          32  11248  \n",
              "178      5200       20          24  16558  \n",
              "179      5200       19          24  15998  \n",
              "180      5200       20          24  15690  \n",
              "181      5200       19          24  15750  \n",
              "182      4800       37          46   7775  \n",
              "183      5250       27          34   7975  \n",
              "184      4800       37          46   7995  \n",
              "185      5250       27          34   8195  \n",
              "186      5250       27          34   8495  \n",
              "187      4500       37          42   9495  \n",
              "188      5500       26          32   9995  \n",
              "189      5500       24          29  11595  \n",
              "190      5500       24          29   9980  \n",
              "191      5500       19          24  13295  \n",
              "192      4500       33          38  13845  \n",
              "193      5500       25          31  12290  \n",
              "194      5400       23          28  12940  \n",
              "195      5400       23          28  13415  \n",
              "196      5400       24          28  15985  \n",
              "197      5400       24          28  16515  \n",
              "198      5100       17          22  18420  \n",
              "199      5100       17          22  18950  \n",
              "200      5400       23          28  16845  \n",
              "201      5300       19          25  19045  \n",
              "202      5500       18          23  21485  \n",
              "203      4800       26          27  22470  \n",
              "204      5400       19          25  22625  \n",
              "\n",
              "[205 rows x 26 columns]>"
            ]
          },
          "metadata": {
            "tags": []
          },
          "execution_count": 48
        }
      ]
    }
  ]
}