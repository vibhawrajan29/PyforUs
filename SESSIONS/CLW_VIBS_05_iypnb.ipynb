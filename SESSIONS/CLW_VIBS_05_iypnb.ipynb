{
  "nbformat": 4,
  "nbformat_minor": 0,
  "metadata": {
    "colab": {
      "name": "CLW_VIBS_05.iypnb",
      "version": "0.3.2",
      "provenance": []
    },
    "kernelspec": {
      "name": "python3",
      "display_name": "Python 3"
    }
  },
  "cells": [
    {
      "metadata": {
        "id": "suNNj87Va98E",
        "colab_type": "text"
      },
      "cell_type": "markdown",
      "source": [
        "**Create some array and dictionary to create Pandas series**"
      ]
    },
    {
      "metadata": {
        "id": "gQyn2jM7jUFl",
        "colab_type": "code",
        "colab": {}
      },
      "cell_type": "code",
      "source": [
        "import numpy as np\n",
        "import pandas as pd\n",
        "from numpy.random import randn as rn"
      ],
      "execution_count": 0,
      "outputs": []
    },
    {
      "metadata": {
        "id": "KDyn-lSiaz9Y",
        "colab_type": "code",
        "colab": {}
      },
      "cell_type": "code",
      "source": [
        "labels = ['a','b','c']\n",
        "my_data = [10,20,30]\n",
        "arr = np.array(my_data)\n",
        "print(arr)\n",
        "type(arr)\n",
        "type(my_data)\n",
        "d = {'a':10,'b':20,'c':30}\n",
        "\n",
        "print (\"Labels:\", labels)\n",
        "print(\"My data:\", my_data)\n",
        "print(\"Dictionary:\", d)"
      ],
      "execution_count": 0,
      "outputs": []
    },
    {
      "metadata": {
        "id": "49zMAbaTbMLn",
        "colab_type": "code",
        "colab": {}
      },
      "cell_type": "code",
      "source": [
        "#CREATE PANDAS SERIES\n",
        "s1=pd.Series(data=my_data)\n",
        "print(s1)\n",
        "type(s1)"
      ],
      "execution_count": 0,
      "outputs": []
    },
    {
      "metadata": {
        "id": "ZBYPri_obXKV",
        "colab_type": "code",
        "colab": {}
      },
      "cell_type": "code",
      "source": [
        "# ADDING A LABEL TO INDEX\n",
        "s2=pd.Series(data=my_data, index=labels)\n",
        "print(s2)"
      ],
      "execution_count": 0,
      "outputs": []
    },
    {
      "metadata": {
        "id": "a0h3Fev_bgL4",
        "colab_type": "code",
        "colab": {}
      },
      "cell_type": "code",
      "source": [
        "#CREATING SERIES FROM ARRAY\n",
        "s3=pd.Series(arr, labels)\n",
        "print(s3)"
      ],
      "execution_count": 0,
      "outputs": []
    },
    {
      "metadata": {
        "id": "HVb20027bwb5",
        "colab_type": "text"
      },
      "cell_type": "markdown",
      "source": [
        "**CREATING DATAFRAMES**"
      ]
    },
    {
      "metadata": {
        "id": "Ml7kVK8Vbu3R",
        "colab_type": "code",
        "colab": {}
      },
      "cell_type": "code",
      "source": [
        "matrix_data = np.random.randint(1,10,size=20).reshape(5,4)\n",
        "row_labels = ['A','B','C','D','E']\n",
        "column_headings = ['Will','Xill','Yill','Zill']\n",
        "\n",
        "df = pd.DataFrame(data=matrix_data, index=row_labels, columns=column_headings)\n",
        "print(\"\\nThe data frame looks like\\n\",'-'*45, sep='')\n",
        "print(df) "
      ],
      "execution_count": 0,
      "outputs": []
    },
    {
      "metadata": {
        "id": "T5RWaizqco5v",
        "colab_type": "code",
        "colab": {}
      },
      "cell_type": "code",
      "source": [
        "d={'a':[10,20],'b':[30,40],'c':[50,60]}\n",
        "df2=pd.DataFrame(data=d,index=['X','Y'])\n",
        "print(df2)"
      ],
      "execution_count": 0,
      "outputs": []
    },
    {
      "metadata": {
        "id": "A7Y4V_kecqHX",
        "colab_type": "code",
        "colab": {}
      },
      "cell_type": "code",
      "source": [
        "#VIEW DATAFRAME PARTIALLY\n",
        "# 25 rows and 4 columns\n",
        "matrix_data = np.random.randint(1,100,100).reshape(25,4)\n",
        "column_headings = ['W','X','Y','Z']\n",
        "df = pd.DataFrame(data=matrix_data,columns=column_headings)"
      ],
      "execution_count": 0,
      "outputs": []
    },
    {
      "metadata": {
        "id": "wj5hbTTYc3LR",
        "colab_type": "code",
        "colab": {}
      },
      "cell_type": "code",
      "source": [
        "#INDEXING AND SLICING\n",
        "print(df['Xill'])\n"
      ],
      "execution_count": 0,
      "outputs": []
    },
    {
      "metadata": {
        "id": "4hCDzz7gdHdw",
        "colab_type": "code",
        "colab": {}
      },
      "cell_type": "code",
      "source": [
        "print(df[['Xill','Zill']])"
      ],
      "execution_count": 0,
      "outputs": []
    },
    {
      "metadata": {
        "id": "9_bjOfdldIXr",
        "colab_type": "code",
        "colab": {}
      },
      "cell_type": "code",
      "source": [
        "#SLICING ON ROWS\n",
        "matrix_data = np.random.randint(1,10,size=20).reshape(5,4)\n",
        "row_labels = ['A','B','C','D','E']\n",
        "column_headings = ['W','X','Y','Z']\n",
        "df = pd.DataFrame(data=matrix_data, index=row_labels, columns=column_headings)\n",
        "print(df.loc['C']\n",
        "print(df.loc[['B','C']])\n",
        "print(df.iloc[2])\n",
        "print(df.iloc[[1,2]])"
      ],
      "execution_count": 0,
      "outputs": []
    },
    {
      "metadata": {
        "id": "xJEo9phXdZbl",
        "colab_type": "code",
        "colab": {}
      },
      "cell_type": "code",
      "source": [
        "#ADDING AND DELETEING NEW COLOUMNS\n",
        "df['New'] = df['X']+df['Z']\n",
        "df['New (Sum of X and Z)'] = df['X']+df['Z']\n",
        "print(\"\\nthis is adding new coloumns\\n\",'-'*60, sep='')\n",
        "print(df)\n",
        "\n",
        "df = df.drop('New', axis=1) # Notice the axis=1 option, axis = 0 is default, so one has to change it to 1\n",
        "print(\"\\nthis is dropping  new coloumns\\n\",'-'*60, sep='')\n",
        "print(df)\n",
        "\n",
        "df1=df.drop('A')\n",
        "print(\"\\nthis is dropping row A\\n\",'-'*60, sep='')\n",
        "print(df1)\n",
        "\n",
        "\n",
        "df.drop('New (Sum of X and Z)', axis=1, inplace=True)\n",
        "print(\"\\nthis is droping  new sum  coloumns\\n\",'-'*60, sep='')\n",
        "print(df)"
      ],
      "execution_count": 0,
      "outputs": []
    },
    {
      "metadata": {
        "id": "Wgu-YI0uesp5",
        "colab_type": "code",
        "colab": {}
      },
      "cell_type": "code",
      "source": [
        "#SUBSETTING OF A DATAFRAME\n",
        "import numpy as np\n",
        "import pandas as pd\n",
        "from numpy.random import randn as rn\n",
        "np.random.seed(101)\n",
        "matrix_data = rn(5,4)\n",
        "row_labels = ['A','B','C','D','E']\n",
        "column_headings = ['W','X','Y','Z']\n",
        "df = pd.DataFrame(data=matrix_data, index=row_labels, columns=column_headings)\n",
        "print('\\n this is full dataframe \\n')\n",
        "print(df)\n",
        "print('\\n this is value of B Y  \\n')\n",
        "print(df.loc['B','Y'])\n",
        "print('\\n this is value of subsetting   \\n')\n",
        "print(df.loc[['B','D'],['W','Y']])"
      ],
      "execution_count": 0,
      "outputs": []
    },
    {
      "metadata": {
        "id": "Yz-n53LFhOJd",
        "colab_type": "code",
        "colab": {}
      },
      "cell_type": "code",
      "source": [
        "#conditional check and Boolean DataFrame\n",
        "print(df>0)\n",
        "print(\"\\n\")\n",
        "print(df.loc[['A','B','C']]>0)\n",
        "booldf = df>0\n",
        "print(\"\\nDataFrame indexed by boolean dataframe\\n\",'-'*45, sep='')\n",
        "print(df[booldf])"
      ],
      "execution_count": 0,
      "outputs": []
    },
    {
      "metadata": {
        "id": "USLTaZPtjK3h",
        "colab_type": "code",
        "colab": {}
      },
      "cell_type": "code",
      "source": [
        "#Passing Boolean series to conditionally subset the DataFrame\n",
        "matrix_data = np.matrix('22,66,140;42,70,148;30,62,125;35,68,160;25,62,152')\n",
        "row_labels = ['A','B','C','D','E']\n",
        "column_headings = ['Age', 'Height', 'Weight']\n",
        "\n",
        "df = pd.DataFrame(data=matrix_data, index=row_labels, columns=column_headings)\n",
        "print(\"\\nA new DataFrame\\n\",'-'*25, sep='')\n",
        "print(df)\n",
        "print(\"\\nRows with Height > 65 inch\\n\",'-'*35, sep='')\n",
        "print(df[df['Height']>65])\n",
        "\n",
        "booldf1 = df['Height']>65\n",
        "booldf2 = df['Weight']>145\n",
        "print(\"\\nRows with Height > 65 inch and Weight >145 lbs\\n\",'-'*55, sep='')\n",
        "print(df[(booldf1) & (booldf2)])\n",
        "\n",
        "print(\"\\nDataFrame with only Age and Weight columns whose Height > 65 inch\\n\",'-'*68, sep='')\n",
        "print(df[booldf1][['Age','Weight']])"
      ],
      "execution_count": 0,
      "outputs": []
    },
    {
      "metadata": {
        "id": "nOSbJnbbjN1b",
        "colab_type": "code",
        "colab": {}
      },
      "cell_type": "code",
      "source": [
        "#INDEX RESETTING & SETTING \n",
        "matrix_data = np.matrix('22,66,140;42,70,148;30,62,125;35,68,160;25,62,152')\n",
        "row_labels = ['A','B','C','D','E']\n",
        "column_headings = ['Age', 'Height', 'Weight']\n",
        "\n",
        "df = pd.DataFrame(data=matrix_data, index=row_labels, columns=column_headings)\n",
        "print(\"\\nThe DataFrame\\n\",'-'*25, sep='')\n",
        "print(df)\n",
        "print(\"\\nAfter resetting index\\n\",'-'*35, sep='')\n",
        "print(df.reset_index())\n",
        "print(\"\\nAfter resetting index with 'drop' option TRUE\\n\",'-'*45, sep='')\n",
        "print(df.reset_index(drop=True))\n",
        "print(\"\\nAdding a new column 'Profession'\\n\",'-'*45, sep='')\n",
        "df['Profession'] = \"Student Teacher Engineer Doctor Nurse\".split()\n",
        "print(df)\n",
        "print(\"\\nSetting 'Profession' column as index\\n\",'-'*45, sep='')\n",
        "print (df.set_index('Profession'))"
      ],
      "execution_count": 0,
      "outputs": []
    },
    {
      "metadata": {
        "id": "bk-YQiYflYTn",
        "colab_type": "code",
        "colab": {
          "base_uri": "https://localhost:8080/",
          "height": 206
        },
        "outputId": "8ba9115f-f6d2-4c24-8788-ec4957286694"
      },
      "cell_type": "code",
      "source": [
        "#simple uses of MultiIndex\n",
        "import pandas as pd, io\n",
        "data = io.StringIO('''Fruit,Color,Count,Price\n",
        "Apple,Red,3,$1.29\n",
        "Apple,Green,9,$0.99\n",
        "Pear,Red,25,$2.59\n",
        "Pear,Green,26,$2.79\n",
        "Lime,Green,99,$0.39\n",
        "''')\n",
        "df_unindexed = pd.read_csv(data)\n",
        "df_unindexed"
      ],
      "execution_count": 2,
      "outputs": [
        {
          "output_type": "execute_result",
          "data": {
            "text/html": [
              "<div>\n",
              "<style scoped>\n",
              "    .dataframe tbody tr th:only-of-type {\n",
              "        vertical-align: middle;\n",
              "    }\n",
              "\n",
              "    .dataframe tbody tr th {\n",
              "        vertical-align: top;\n",
              "    }\n",
              "\n",
              "    .dataframe thead th {\n",
              "        text-align: right;\n",
              "    }\n",
              "</style>\n",
              "<table border=\"1\" class=\"dataframe\">\n",
              "  <thead>\n",
              "    <tr style=\"text-align: right;\">\n",
              "      <th></th>\n",
              "      <th>Fruit</th>\n",
              "      <th>Color</th>\n",
              "      <th>Count</th>\n",
              "      <th>Price</th>\n",
              "    </tr>\n",
              "  </thead>\n",
              "  <tbody>\n",
              "    <tr>\n",
              "      <th>0</th>\n",
              "      <td>Apple</td>\n",
              "      <td>Red</td>\n",
              "      <td>3</td>\n",
              "      <td>$1.29</td>\n",
              "    </tr>\n",
              "    <tr>\n",
              "      <th>1</th>\n",
              "      <td>Apple</td>\n",
              "      <td>Green</td>\n",
              "      <td>9</td>\n",
              "      <td>$0.99</td>\n",
              "    </tr>\n",
              "    <tr>\n",
              "      <th>2</th>\n",
              "      <td>Pear</td>\n",
              "      <td>Red</td>\n",
              "      <td>25</td>\n",
              "      <td>$2.59</td>\n",
              "    </tr>\n",
              "    <tr>\n",
              "      <th>3</th>\n",
              "      <td>Pear</td>\n",
              "      <td>Green</td>\n",
              "      <td>26</td>\n",
              "      <td>$2.79</td>\n",
              "    </tr>\n",
              "    <tr>\n",
              "      <th>4</th>\n",
              "      <td>Lime</td>\n",
              "      <td>Green</td>\n",
              "      <td>99</td>\n",
              "      <td>$0.39</td>\n",
              "    </tr>\n",
              "  </tbody>\n",
              "</table>\n",
              "</div>"
            ],
            "text/plain": [
              "   Fruit  Color  Count  Price\n",
              "0  Apple    Red      3  $1.29\n",
              "1  Apple  Green      9  $0.99\n",
              "2   Pear    Red     25  $2.59\n",
              "3   Pear  Green     26  $2.79\n",
              "4   Lime  Green     99  $0.39"
            ]
          },
          "metadata": {
            "tags": []
          },
          "execution_count": 2
        }
      ]
    },
    {
      "metadata": {
        "id": "tTuGInGnlqwl",
        "colab_type": "code",
        "colab": {}
      },
      "cell_type": "code",
      "source": [
        "df = df_unindexed.set_index(['Fruit', 'Color'])\n",
        "df"
      ],
      "execution_count": 0,
      "outputs": []
    },
    {
      "metadata": {
        "id": "A0bHmgj7lvQy",
        "colab_type": "code",
        "colab": {}
      },
      "cell_type": "code",
      "source": [
        "#Querying the data frame with .xs()\n",
        "\n",
        "df.xs('Apple')\n",
        "\n"
      ],
      "execution_count": 0,
      "outputs": []
    },
    {
      "metadata": {
        "id": "Mrvfb4ItmxEu",
        "colab_type": "code",
        "colab": {}
      },
      "cell_type": "code",
      "source": [
        "df.xs('Red', level='Color')"
      ],
      "execution_count": 0,
      "outputs": []
    },
    {
      "metadata": {
        "id": "lJ8vSQBRni8I",
        "colab_type": "code",
        "colab": {}
      },
      "cell_type": "code",
      "source": [
        "#GROUP BY\n",
        "# Create dataframe\n",
        "data = {'Company':['GOOG','GOOG','MSFT','MSFT','FB','FB'],\n",
        "       'Person':['Sam','Charlie','Amy','Vanessa','Carl','Sarah'],\n",
        "       'Sales':[200,120,340,124,243,350]}\n",
        "df = pd.DataFrame(data)\n",
        "df"
      ],
      "execution_count": 0,
      "outputs": []
    },
    {
      "metadata": {
        "id": "q8ybH6_Snp4U",
        "colab_type": "code",
        "colab": {}
      },
      "cell_type": "code",
      "source": [
        "byComp = df.groupby('Company')"
      ],
      "execution_count": 0,
      "outputs": []
    },
    {
      "metadata": {
        "id": "0SSVrrmVn4qU",
        "colab_type": "code",
        "colab": {}
      },
      "cell_type": "code",
      "source": [
        "#CONCATENATION \n",
        "\n",
        "# Creating data frames\n",
        "df1 = pd.DataFrame({'A': ['A0', 'A1', 'A2', 'A3'],\n",
        "                        'B': ['B0', 'B1', 'B2', 'B3'],\n",
        "                        'C': ['C0', 'C1', 'C2', 'C3'],\n",
        "                        'D': ['D0', 'D1', 'D2', 'D3']},\n",
        "                        index=[0, 1, 2, 3])\n",
        "\n",
        "df2 = pd.DataFrame({'A': ['A4', 'A5', 'A6', 'A7'],\n",
        "                        'B': ['B4', 'B5', 'B6', 'B7'],\n",
        "                        'C': ['C4', 'C5', 'C6', 'C7'],\n",
        "                        'D': ['D4', 'D5', 'D6', 'D7']},\n",
        "                         index=[4, 5, 6, 7])\n",
        "\n",
        "df3 = pd.DataFrame({'A': ['A8', 'A9', 'A10', 'A11'],\n",
        "                        'B': ['B8', 'B9', 'B10', 'B11'],\n",
        "                        'C': ['C8', 'C9', 'C10', 'C11'],\n",
        "                        'D': ['D8', 'D9', 'D10', 'D11']},\n",
        "                        index=[8,9,10,11])\n",
        "\n",
        "print(\"\\nThe DataFrame number 1\\n\",'-'*30, sep='')\n",
        "print(df1)\n",
        "print(\"\\nThe DataFrame number 2\\n\",'-'*30, sep='')\n",
        "print(df2)\n",
        "print(\"\\nThe DataFrame number 3\\n\",'-'*30, sep='')\n",
        "print(df3)"
      ],
      "execution_count": 0,
      "outputs": []
    },
    {
      "metadata": {
        "id": "F_kf1gxToFQv",
        "colab_type": "code",
        "colab": {}
      },
      "cell_type": "code",
      "source": [
        "df_cat1 = pd.concat([df1,df2,df3], axis=0)\n",
        "print(\"\\nAfter concatenation along row\\n\",'-'*30, sep='')\n",
        "print(df_cat1)\n",
        "\n",
        "\n",
        "df_cat2 = pd.concat([df1,df2,df3], axis=1)\n",
        "print(\"\\nAfter concatenation along column\\n\",'-'*60, sep='')\n",
        "print(df_cat2)\n",
        "df_cat2.fillna(value=0, inplace=True)\n",
        "print(\"\\nAfter filling missing values with zero\\n\",'-'*60, sep='')\n",
        "print(df_cat2)\n"
      ],
      "execution_count": 0,
      "outputs": []
    },
    {
      "metadata": {
        "id": "VHzkmx0soOYX",
        "colab_type": "code",
        "colab": {}
      },
      "cell_type": "code",
      "source": [
        "#MERGING \n",
        "left = pd.DataFrame({'key': ['K0', 'K1', 'K2', 'K3'],\n",
        "                     'A': ['A0', 'A1', 'A2', 'A3'],\n",
        "                     'B': ['B0', 'B1', 'B2', 'B3']})\n",
        "   \n",
        "right = pd.DataFrame({'key': ['K0', 'K1', 'K2', 'K3'],\n",
        "                          'C': ['C0', 'C1', 'C2', 'C3'],\n",
        "                          'D': ['D0', 'D1', 'D2', 'D3']})\n",
        "\n",
        "print(\"\\nThe DataFrame 'left'\\n\",'-'*30, sep='')\n",
        "print(left)\n",
        "print(\"\\nThe DataFrame 'right'\\n\",'-'*30, sep='')\n",
        "print(right)\n",
        "merge1= pd.merge(left,right,how='inner',on='key')\n",
        "print(\"\\nAfter simple merging with 'inner' method\\n\",'-'*50, sep='')\n",
        "print(merge1)"
      ],
      "execution_count": 0,
      "outputs": []
    },
    {
      "metadata": {
        "id": "XGFdfpGzocU_",
        "colab_type": "code",
        "colab": {}
      },
      "cell_type": "code",
      "source": [
        "#MERGING 2\n",
        "left = pd.DataFrame({'key1': ['K0', 'K0', 'K1', 'K2'],\n",
        "                     'key2': ['K0', 'K1', 'K0', 'K1'],\n",
        "                        'A': ['A0', 'A1', 'A2', 'A3'],\n",
        "                        'B': ['B0', 'B1', 'B2', 'B3']})\n",
        "    \n",
        "right = pd.DataFrame({'key1': ['K0', 'K1', 'K1', 'K2'],\n",
        "                               'key2': ['K0', 'K0', 'K0', 'K0'],\n",
        "                                  'C': ['C0', 'C1', 'C2', 'C3'],\n",
        "                                  'D': ['D0', 'D1', 'D2', 'D3']})\n"
      ],
      "execution_count": 0,
      "outputs": []
    },
    {
      "metadata": {
        "id": "iat1j7CsohvY",
        "colab_type": "code",
        "colab": {}
      },
      "cell_type": "code",
      "source": [
        "pd.merge(left, right, on=['key1', 'key2'])\n"
      ],
      "execution_count": 0,
      "outputs": []
    },
    {
      "metadata": {
        "id": "ggV0AeUmoixX",
        "colab_type": "code",
        "colab": {}
      },
      "cell_type": "code",
      "source": [
        "pd.merge(left, right, how='outer',on=['key1', 'key2'])"
      ],
      "execution_count": 0,
      "outputs": []
    },
    {
      "metadata": {
        "id": "1F6_sFeSomNA",
        "colab_type": "code",
        "colab": {}
      },
      "cell_type": "code",
      "source": [
        "pd.merge(left, right, how='left',on=['key1', 'key2'])"
      ],
      "execution_count": 0,
      "outputs": []
    },
    {
      "metadata": {
        "id": "qlrwBdSdoozy",
        "colab_type": "code",
        "colab": {}
      },
      "cell_type": "code",
      "source": [
        "pd.merge(left, right, how='right',on=['key1', 'key2'])"
      ],
      "execution_count": 0,
      "outputs": []
    }
  ]
}