{
  "nbformat": 4,
  "nbformat_minor": 0,
  "metadata": {
    "colab": {
      "name": "For Distribution: CLW_VIBS_AWS01_07.ipynb",
      "version": "0.3.2",
      "provenance": []
    },
    "kernelspec": {
      "name": "python3",
      "display_name": "Python 3"
    }
  },
  "cells": [
    {
      "metadata": {
        "id": "_NderreV69J6",
        "colab_type": "text"
      },
      "cell_type": "markdown",
      "source": [
        "*First we are mounting drive for the google drive and then importing Python SDK for AWS  i.e boto3*"
      ]
    },
    {
      "metadata": {
        "id": "6Wh_HU7vLHb6",
        "colab_type": "code",
        "outputId": "4b6d1ff6-6d17-4c20-867f-8f095cd7e495",
        "colab": {
          "base_uri": "https://localhost:8080/",
          "height": 35
        }
      },
      "cell_type": "code",
      "source": [
        "from google.colab import drive\n",
        "drive.mount('/content/drive/')"
      ],
      "execution_count": 0,
      "outputs": [
        {
          "output_type": "stream",
          "text": [
            "Drive already mounted at /content/drive/; to attempt to forcibly remount, call drive.mount(\"/content/drive/\", force_remount=True).\n"
          ],
          "name": "stdout"
        }
      ]
    },
    {
      "metadata": {
        "id": "cQ3b_pMlPtsC",
        "colab_type": "code",
        "outputId": "75915cb9-f0bc-49a4-d98f-53d0fdb1e0ff",
        "colab": {
          "base_uri": "https://localhost:8080/",
          "height": 35
        }
      },
      "cell_type": "code",
      "source": [
        "!pwd\n",
        "!ls - \"/content/drive/My Drive/vibhawdrivepy\"\n",
        "import boto3, os"
      ],
      "execution_count": 0,
      "outputs": [
        {
          "output_type": "stream",
          "text": [
            "/content\n"
          ],
          "name": "stdout"
        }
      ]
    },
    {
      "metadata": {
        "id": "Y1r5I2PF60BI",
        "colab_type": "text"
      },
      "cell_type": "markdown",
      "source": [
        "***Resource is  the high level service*** *class recommended to be used. This allow you to tied particular AWS resources and pass it along, so you just use this abstraction than worry which target services is pointed to.*"
      ]
    },
    {
      "metadata": {
        "id": "3bnk1LqYKT17",
        "colab_type": "code",
        "colab": {}
      },
      "cell_type": "code",
      "source": [
        "#Using Resource\n",
        "resource= boto3.resource(\n",
        "    's3',\n",
        "    aws_access_key_id='your access key',\n",
        "    aws_secret_access_key='your secret key',\n",
        "    \n",
        ")\n"
      ],
      "execution_count": 0,
      "outputs": []
    },
    {
      "metadata": {
        "id": "miC9Da416KHw",
        "colab_type": "text"
      },
      "cell_type": "markdown",
      "source": [
        "***Client is a low level object***.* for each client call .For each client call, you need to explicitly specify the targeting resources, the designated service target name must be pass long. You will lost the abstraction ability*"
      ]
    },
    {
      "metadata": {
        "id": "t4_sDMXh51KV",
        "colab_type": "code",
        "colab": {}
      },
      "cell_type": "code",
      "source": [
        "#Using Client . This we will go in details in other examples latter\n",
        "resource= boto3.client(\n",
        "    's3',\n",
        "    aws_access_key_id='your access key',\n",
        "    aws_secret_access_key='your secret key',\n",
        "    \n",
        ")"
      ],
      "execution_count": 0,
      "outputs": []
    },
    {
      "metadata": {
        "id": "5F67XXbJ7a5s",
        "colab_type": "text"
      },
      "cell_type": "markdown",
      "source": [
        "***Sessions***:*where initiate the connectivity to AWS services. E.g. following is default session that use the default credential profile. Because default session is limit to the profile or instance profile used, sometime you need to use the custom session to override the default session configuration (e.g. region_name, endpoint_url, etc. ) *\n"
      ]
    },
    {
      "metadata": {
        "id": "xb5Au1wF7aHE",
        "colab_type": "code",
        "colab": {}
      },
      "cell_type": "code",
      "source": [
        "s3 = boto3.resource('s3')\n",
        "\n",
        "my_west_session = boto3.Session(region_name = 'us-west-2')\n",
        "my_east_sesison = boto3.Session(region_name = 'us-east-1')\n",
        "\n",
        "# custom resource session must use boto3.Session to do the override\n",
        "backup_s3 = my_west_session.resource('s3')\n",
        "video_s3 = my_east_sesison.resource('s3')\n",
        "\n",
        "\n",
        "# you have two choices of create custom client session. \n",
        "backup_s3c = my_west_session.client('s3')\n",
        "video_s3c = boto3.client(\"s3\", region_name = 'us-east-1')\n",
        "                  "
      ],
      "execution_count": 0,
      "outputs": []
    },
    {
      "metadata": {
        "id": "4ohOpETW9BL1",
        "colab_type": "text"
      },
      "cell_type": "markdown",
      "source": [
        "**List buckets along with the file name**\n",
        "\n",
        "this we do in AWS CLI :\n",
        "\n",
        "! aws s3 ls\n",
        "\n",
        "! aws s3 ls demo-bucket-prudev/ --recursive\n",
        "\n",
        "! aws s3 ls --recursive "
      ]
    },
    {
      "metadata": {
        "id": "2dRsAsIKWPTE",
        "colab_type": "code",
        "outputId": "11a585b7-6173-40ed-ea32-0bdcbd9763e3",
        "colab": {
          "base_uri": "https://localhost:8080/",
          "height": 439
        }
      },
      "cell_type": "code",
      "source": [
        "for bucket in resource.buckets.all():\n",
        "    for obj in bucket.objects.all():\n",
        "        print(os.path.join(obj.bucket_name, obj.key))"
      ],
      "execution_count": 0,
      "outputs": [
        {
          "output_type": "stream",
          "text": [
            "athenabucketvibs/affectedplatforms/\n",
            "athenabucketvibs/dates/\n",
            "athenabucketvibs/output/\n",
            "athenabucketvibs/resolve/\n",
            "athenabucketvibs/resolve/serviceone.txt\n",
            "athenabucketvibs/users/\n",
            "athenabucketvibs/users/user.txt\n",
            "athenoutputquery/output/\n",
            "demo-bucket-prudev/newbook.csv\n",
            "demo-bucket-prudev/newbook.xls\n",
            "redshifts3bucketvibs/affectedplatform.txt\n",
            "redshifts3bucketvibs/affectplatform.txt\n",
            "redshifts3bucketvibs/assgrp.txt\n",
            "redshifts3bucketvibs/category.txt\n",
            "redshifts3bucketvibs/date.txt\n",
            "redshifts3bucketvibs/date2.txt\n",
            "redshifts3bucketvibs/date3.txt\n",
            "redshifts3bucketvibs/priorty.txt\n",
            "redshifts3bucketvibs/sc_request_tousefinal.txt\n",
            "redshifts3bucketvibs/sc_request_tousevibs.txt\n",
            "redshifts3bucketvibs/serreq.txt\n",
            "redshifts3bucketvibs/state.txt\n",
            "redshifts3bucketvibs/user.txt\n"
          ],
          "name": "stdout"
        }
      ]
    },
    {
      "metadata": {
        "id": "Q6VH3ERN5gbx",
        "colab_type": "text"
      },
      "cell_type": "markdown",
      "source": [
        "**Creating a bucket**\n",
        "\n",
        "*Bucket names need to be globally unique, meaning that no two buckets can have the same name, not even when they are owned by different users.  P.S : - use uuid4 for this (we will see that in our examples later down)*\n",
        "\n",
        "! aws s3 mb s3://demo-bucket-prudev"
      ]
    },
    {
      "metadata": {
        "id": "mEbEa9MeZWnx",
        "colab_type": "code",
        "outputId": "4b7c2642-fc80-46e7-8e05-8640170f6ad1",
        "colab": {
          "base_uri": "https://localhost:8080/",
          "height": 35
        }
      },
      "cell_type": "code",
      "source": [
        "resource.create_bucket(Bucket='demo-bucket-prudev')"
      ],
      "execution_count": 0,
      "outputs": [
        {
          "output_type": "execute_result",
          "data": {
            "text/plain": [
              "s3.Bucket(name='demo-bucket-prudev')"
            ]
          },
          "metadata": {
            "tags": []
          },
          "execution_count": 105
        }
      ]
    },
    {
      "metadata": {
        "id": "CaDNPDL490BX",
        "colab_type": "text"
      },
      "cell_type": "markdown",
      "source": [
        " **Upload file\n",
        "! aws s3 cp test.txt s3://demo-bucket-prudev/**"
      ]
    },
    {
      "metadata": {
        "id": "SudyfX1SZwN0",
        "colab_type": "code",
        "colab": {}
      },
      "cell_type": "code",
      "source": [
        "resource.meta.client.upload_file('/content/drive/My Drive/vibhawdrivepy/newbook.csv', 'demo-bucket-prudev', 'newbook.csv')"
      ],
      "execution_count": 0,
      "outputs": []
    },
    {
      "metadata": {
        "id": "M0-TIkBu-N6r",
        "colab_type": "text"
      },
      "cell_type": "markdown",
      "source": [
        "**Delete object **  ! aws s3 rm s3://demo-bucket-prudev/newbook.xls"
      ]
    },
    {
      "metadata": {
        "id": "X8TrU5bEaqEw",
        "colab_type": "code",
        "outputId": "478c6f88-df36-4be2-d110-b0864f5e6831",
        "colab": {
          "base_uri": "https://localhost:8080/",
          "height": 164
        }
      },
      "cell_type": "code",
      "source": [
        "resource.meta.client.delete_object(Bucket=\"demo-bucket-prudev\", Key=\"newbook.xls\")"
      ],
      "execution_count": 0,
      "outputs": [
        {
          "output_type": "execute_result",
          "data": {
            "text/plain": [
              "{'ResponseMetadata': {'HTTPHeaders': {'date': 'Mon, 28 Jan 2019 19:02:13 GMT',\n",
              "   'server': 'AmazonS3',\n",
              "   'x-amz-id-2': 'ZqxhLek9GLHmqlb0YEWuNPOcOlDTj/Hxj47OeitkND+buEfhLPVxck5yfb7S2tqeeVlHCVeX3GE=',\n",
              "   'x-amz-request-id': 'DF14931A3F475437'},\n",
              "  'HTTPStatusCode': 204,\n",
              "  'HostId': 'ZqxhLek9GLHmqlb0YEWuNPOcOlDTj/Hxj47OeitkND+buEfhLPVxck5yfb7S2tqeeVlHCVeX3GE=',\n",
              "  'RequestId': 'DF14931A3F475437',\n",
              "  'RetryAttempts': 0}}"
            ]
          },
          "metadata": {
            "tags": []
          },
          "execution_count": 43
        }
      ]
    },
    {
      "metadata": {
        "id": "R8pJEvYMKZpd",
        "colab_type": "code",
        "outputId": "67b33379-7eac-497b-c81e-2a35bbc73579",
        "colab": {
          "base_uri": "https://localhost:8080/",
          "height": 164
        }
      },
      "cell_type": "code",
      "source": [
        "obj = resource.Object(\"demo-bucket-prudev\", \"newbook.xls\")\n",
        "obj.delete()"
      ],
      "execution_count": 0,
      "outputs": [
        {
          "output_type": "execute_result",
          "data": {
            "text/plain": [
              "{'ResponseMetadata': {'HTTPHeaders': {'date': 'Mon, 28 Jan 2019 19:04:06 GMT',\n",
              "   'server': 'AmazonS3',\n",
              "   'x-amz-id-2': 'AtnpB7Ps7LlFdKMb4EdU/bhaaUfQt/6CTDGEe7S3eTo/JqyoheGhS0murc+duX0Jf1cZulfEFRU=',\n",
              "   'x-amz-request-id': 'D4D628B877179608'},\n",
              "  'HTTPStatusCode': 204,\n",
              "  'HostId': 'AtnpB7Ps7LlFdKMb4EdU/bhaaUfQt/6CTDGEe7S3eTo/JqyoheGhS0murc+duX0Jf1cZulfEFRU=',\n",
              "  'RequestId': 'D4D628B877179608',\n",
              "  'RetryAttempts': 0}}"
            ]
          },
          "metadata": {
            "tags": []
          },
          "execution_count": 48
        }
      ]
    },
    {
      "metadata": {
        "id": "XM4rOpMW2Wo9",
        "colab_type": "code",
        "colab": {}
      },
      "cell_type": "code",
      "source": [
        "resource.meta.client.upload_file('/content/drive/My Drive/vibhawdrivepy/newbook.xls', 'demo-bucket-prudev', 'newbook1.xls')"
      ],
      "execution_count": 0,
      "outputs": []
    },
    {
      "metadata": {
        "id": "Fn-ef2wF2gVD",
        "colab_type": "code",
        "outputId": "0cea0e5b-3b3c-4dd7-b2b9-4b26ca0e959c",
        "colab": {
          "base_uri": "https://localhost:8080/",
          "height": 237
        }
      },
      "cell_type": "code",
      "source": [
        "resource.Object('demo-bucket-prudev','moved2.txt').copy_from(CopySource='demo-bucket-prudev/newbook1.xls')"
      ],
      "execution_count": 0,
      "outputs": [
        {
          "output_type": "execute_result",
          "data": {
            "text/plain": [
              "{'CopyObjectResult': {'ETag': '\"d8afd2a6f971397be7e7ca0a6648e7b7\"',\n",
              "  'LastModified': datetime.datetime(2019, 1, 28, 19, 5, 58, tzinfo=tzlocal())},\n",
              " 'ResponseMetadata': {'HTTPHeaders': {'content-length': '234',\n",
              "   'content-type': 'application/xml',\n",
              "   'date': 'Mon, 28 Jan 2019 19:05:58 GMT',\n",
              "   'server': 'AmazonS3',\n",
              "   'x-amz-id-2': 'OqrkpNzu9nKfb4vDO8g2TTta9ZSLr3cMyzl0bP/00s/8Cd0hA5JjzfBEzS2PbC03eF7E17a7AQk=',\n",
              "   'x-amz-request-id': '8060BEC7A64115C9'},\n",
              "  'HTTPStatusCode': 200,\n",
              "  'HostId': 'OqrkpNzu9nKfb4vDO8g2TTta9ZSLr3cMyzl0bP/00s/8Cd0hA5JjzfBEzS2PbC03eF7E17a7AQk=',\n",
              "  'RequestId': '8060BEC7A64115C9',\n",
              "  'RetryAttempts': 0}}"
            ]
          },
          "metadata": {
            "tags": []
          },
          "execution_count": 52
        }
      ]
    },
    {
      "metadata": {
        "id": "JDIRZrik2xoB",
        "colab_type": "code",
        "outputId": "0bedde2f-2471-43fd-a2a3-8b5bd9e32743",
        "colab": {
          "base_uri": "https://localhost:8080/",
          "height": 109
        }
      },
      "cell_type": "code",
      "source": [
        "for bucket in resource.buckets.all():\n",
        "    print(bucket.name)"
      ],
      "execution_count": 0,
      "outputs": [
        {
          "output_type": "stream",
          "text": [
            "athenabucketvibs\n",
            "athenoutputquery\n",
            "demo-bucket-prudev\n",
            "firstpythonbucketd59eafc5-2538-4f61-96df-9cd465895435\n",
            "redshifts3bucketvibs\n"
          ],
          "name": "stdout"
        }
      ]
    },
    {
      "metadata": {
        "id": "z7Ny3L922_jO",
        "colab_type": "code",
        "outputId": "b9a9205b-9bc3-4c10-cafc-78696762c559",
        "colab": {
          "base_uri": "https://localhost:8080/",
          "height": 35
        }
      },
      "cell_type": "code",
      "source": [
        "for obj in resource.Bucket(name='demo-bucket-prudev').objects.all():\n",
        "    print(os.path.join(obj.bucket_name, obj.key))\n",
        "    \n",
        "    "
      ],
      "execution_count": 0,
      "outputs": [
        {
          "output_type": "stream",
          "text": [
            "demo-bucket-prudev/newbook.xls\n"
          ],
          "name": "stdout"
        }
      ]
    },
    {
      "metadata": {
        "id": "0hzbnK8N3Y1h",
        "colab_type": "code",
        "outputId": "9fda7ea3-4f4d-465b-dcf5-ef14a31e04ee",
        "colab": {
          "base_uri": "https://localhost:8080/",
          "height": 35
        }
      },
      "cell_type": "code",
      "source": [
        "import re\n",
        "objs = [os.path.join(obj.bucket_name, obj.key) \n",
        "        for obj in resource.Bucket(name='demo-bucket-prudev').objects.all() \n",
        "        if re.match(\".*xls\",obj.key)]\n",
        "print(\"\\n\".join(objs))\n",
        "\n"
      ],
      "execution_count": 0,
      "outputs": [
        {
          "output_type": "stream",
          "text": [
            "demo-bucket-prudev/newbook.xls\n"
          ],
          "name": "stdout"
        }
      ]
    },
    {
      "metadata": {
        "id": "LrPXOIDM34Kv",
        "colab_type": "code",
        "outputId": "5dd96a8c-8357-4b49-fd4a-2183c1646a42",
        "colab": {
          "base_uri": "https://localhost:8080/",
          "height": 164
        }
      },
      "cell_type": "code",
      "source": [
        "bucket = resource.Bucket('demo-bucket-prudev')\n",
        "\n",
        "# empty the bucket\n",
        "for key in bucket.objects.all():\n",
        "    key.delete()\n",
        "    \n",
        "# then delete bucket.delete()"
      ],
      "execution_count": 0,
      "outputs": [
        {
          "output_type": "execute_result",
          "data": {
            "text/plain": [
              "{'ResponseMetadata': {'HTTPHeaders': {'date': 'Mon, 28 Jan 2019 19:11:38 GMT',\n",
              "   'server': 'AmazonS3',\n",
              "   'x-amz-id-2': 'nhjKVe+E5xctlfK4L8F/VTTz30duPlam4n+73YdtvEC5r6EHJ45HKXO0WXEshts26JALj7RlPi8=',\n",
              "   'x-amz-request-id': '886A8072CF110D56'},\n",
              "  'HTTPStatusCode': 204,\n",
              "  'HostId': 'nhjKVe+E5xctlfK4L8F/VTTz30duPlam4n+73YdtvEC5r6EHJ45HKXO0WXEshts26JALj7RlPi8=',\n",
              "  'RequestId': '886A8072CF110D56',\n",
              "  'RetryAttempts': 0}}"
            ]
          },
          "metadata": {
            "tags": []
          },
          "execution_count": 60
        }
      ]
    },
    {
      "metadata": {
        "id": "voAUxfrvLwFG",
        "colab_type": "code",
        "colab": {}
      },
      "cell_type": "code",
      "source": [
        "import uuid\n",
        "def create_bucket_name(bucket_prefix):\n",
        "    # The generated bucket name must be between 3 and 63 chars long\n",
        "    return ''.join([bucket_prefix, str(uuid.uuid4())])"
      ],
      "execution_count": 0,
      "outputs": []
    },
    {
      "metadata": {
        "id": "ozINNZvkLwIy",
        "colab_type": "code",
        "outputId": "51c7f95a-171b-4dfc-f9f1-a5847ce5fe0d",
        "colab": {
          "base_uri": "https://localhost:8080/",
          "height": 35
        }
      },
      "cell_type": "code",
      "source": [
        "first_bucket_name = create_bucket_name('firstpythonbucket')\n",
        "first_bucket_name"
      ],
      "execution_count": 0,
      "outputs": [
        {
          "output_type": "execute_result",
          "data": {
            "text/plain": [
              "'firstpythonbucketee234a75-7e1a-4663-bcec-ee0168fb6c9c'"
            ]
          },
          "metadata": {
            "tags": []
          },
          "execution_count": 100
        }
      ]
    },
    {
      "metadata": {
        "id": "K5MgXFOSUA_o",
        "colab_type": "code",
        "outputId": "d551218a-3dfb-4b8e-b581-f39dc0f63d56",
        "colab": {
          "base_uri": "https://localhost:8080/",
          "height": 182
        }
      },
      "cell_type": "code",
      "source": [
        "s3 = boto3.client(\n",
        "    's3',\n",
        "    aws_access_key_id='your access key',\n",
        "    aws_secret_access_key='your secret key',\n",
        ")\n",
        "obj =s3.get_object(Bucket='demo-bucket-prudev', Key='newbook.csv')\n",
        "#j= obj['Body'].read().decode('ISO-8859-1')\n",
        "j= obj['Body'].read().decode('utf-8')\n",
        "print(j)"
      ],
      "execution_count": 0,
      "outputs": [
        {
          "output_type": "stream",
          "text": [
            "﻿master_plan_id,rule_type,rule_seq,rule_id,rule_txt,date_upd,vru_rule,vru_rule_type\r\n",
            "100001,RS,102,111,hello,10/11/2018,1,1\r\n",
            "100002,RS,103,111,hello,10/12/2018,1,1\r\n",
            "100003,RS,104,111,hello,10/13/2018,1,1\r\n",
            "100004,RS,105,111,hello,10/14/2018,1,1\r\n",
            "100005,RS,106,111,hello,10/15/2018,1,1\r\n",
            "100006,RS,107,111,hello,10/16/2018,1,1\r\n",
            "100007,RS,108,111,hello,10/17/2018,1,1\r\n",
            "\n"
          ],
          "name": "stdout"
        }
      ]
    },
    {
      "metadata": {
        "id": "4SWnD8YJXz3y",
        "colab_type": "code",
        "outputId": "0d38a578-88ff-4d53-c8e8-1bef4c9f1410",
        "colab": {
          "base_uri": "https://localhost:8080/",
          "height": 182
        }
      },
      "cell_type": "code",
      "source": [
        "s3 = boto3.resource(\n",
        "    's3',\n",
        "   aws_access_key_id='your access key',\n",
        "    aws_secret_access_key='your secret key',\n",
        "    \n",
        ")\n",
        "obj =s3.meta.client.get_object(Bucket='demo-bucket-prudev', Key='newbook.csv')\n",
        "j= obj['Body'].read().decode('utf-8')\n",
        "print(j)"
      ],
      "execution_count": 0,
      "outputs": [
        {
          "output_type": "stream",
          "text": [
            "﻿master_plan_id,rule_type,rule_seq,rule_id,rule_txt,date_upd,vru_rule,vru_rule_type\r\n",
            "100001,RS,102,111,hello,10/11/2018,1,1\r\n",
            "100002,RS,103,111,hello,10/12/2018,1,1\r\n",
            "100003,RS,104,111,hello,10/13/2018,1,1\r\n",
            "100004,RS,105,111,hello,10/14/2018,1,1\r\n",
            "100005,RS,106,111,hello,10/15/2018,1,1\r\n",
            "100006,RS,107,111,hello,10/16/2018,1,1\r\n",
            "100007,RS,108,111,hello,10/17/2018,1,1\r\n",
            "\n"
          ],
          "name": "stdout"
        }
      ]
    },
    {
      "metadata": {
        "id": "y7zXfKZdDHM1",
        "colab_type": "text"
      },
      "cell_type": "markdown",
      "source": [
        "**Queues in Amazon SQS**\n",
        "\n",
        "The code uses the AWS SDK for Python to use queues using these methods of the AWS.SQS client class:\n",
        "\n",
        "    list_queues.\n",
        "    create_queue.\n",
        "    get_queue_url.\n",
        "    delete_queue."
      ]
    },
    {
      "metadata": {
        "id": "2xA4UW7zDF30",
        "colab_type": "code",
        "outputId": "aee56b3b-c5d8-477c-d6b9-6aaac18007b3",
        "colab": {
          "base_uri": "https://localhost:8080/",
          "height": 74
        }
      },
      "cell_type": "code",
      "source": [
        "#List Your Queues\n",
        "import boto3\n",
        "\n",
        "# Create SQS client\n",
        "sqs = boto3.client('sqs',aws_access_key_id='your key',\n",
        "    aws_secret_access_key='your secret key',region_name= 'us-east-1')\n",
        "\n",
        "# List SQS queues\n",
        "response = sqs.list_queues()\n",
        "\n",
        "print(response)\n",
        "print(response['QueueUrls'])"
      ],
      "execution_count": 0,
      "outputs": [
        {
          "output_type": "stream",
          "text": [
            "{'QueueUrls': ['https://queue.amazonaws.com/716349339227/SQS_QUEUE_NAME'], 'ResponseMetadata': {'RequestId': 'de28cce8-0e26-5a69-9793-982266990d49', 'HTTPStatusCode': 200, 'HTTPHeaders': {'x-amzn-requestid': 'de28cce8-0e26-5a69-9793-982266990d49', 'date': 'Tue, 29 Jan 2019 14:43:11 GMT', 'content-type': 'text/xml', 'content-length': '322'}, 'RetryAttempts': 0}}\n",
            "['https://queue.amazonaws.com/716349339227/SQS_QUEUE_NAME']\n"
          ],
          "name": "stdout"
        }
      ]
    },
    {
      "metadata": {
        "id": "_lnwvUXJEBDP",
        "colab_type": "code",
        "outputId": "10ac5689-e5fe-4de9-e8cc-3d6d8ce27f28",
        "colab": {
          "base_uri": "https://localhost:8080/",
          "height": 35
        }
      },
      "cell_type": "code",
      "source": [
        "# Create a SQS queue\n",
        "response = sqs.create_queue(\n",
        "    QueueName='SQS_QUEUE_NAME',\n",
        "    Attributes={\n",
        "        'DelaySeconds': '60',\n",
        "        'MessageRetentionPeriod': '86400'\n",
        "    }\n",
        ")\n",
        "\n",
        "print(response['QueueUrl'])"
      ],
      "execution_count": 0,
      "outputs": [
        {
          "output_type": "stream",
          "text": [
            "https://queue.amazonaws.com/716349339227/SQS_QUEUE_NAME\n"
          ],
          "name": "stdout"
        }
      ]
    },
    {
      "metadata": {
        "id": "HvMo3YExEOdS",
        "colab_type": "code",
        "outputId": "2332762c-fd34-4b85-ec68-9b4b413fde77",
        "colab": {
          "base_uri": "https://localhost:8080/",
          "height": 35
        }
      },
      "cell_type": "code",
      "source": [
        "# Get URL for SQS queue\n",
        "response = sqs.get_queue_url(QueueName='SQS_QUEUE_NAME')\n",
        "\n",
        "print(response['QueueUrl'])"
      ],
      "execution_count": 0,
      "outputs": [
        {
          "output_type": "stream",
          "text": [
            "https://queue.amazonaws.com/716349339227/SQS_QUEUE_NAME\n"
          ],
          "name": "stdout"
        }
      ]
    },
    {
      "metadata": {
        "id": "qkQg-aV5EOJr",
        "colab_type": "code",
        "outputId": "64dcadc1-80dd-40b7-a06f-9815cb7006e9",
        "colab": {
          "base_uri": "https://localhost:8080/",
          "height": 54
        }
      },
      "cell_type": "code",
      "source": [
        "#Send a Message to a Queue\n",
        "#queue_url = sqs.get_queue_url(QueueName='SQS_QUEUE_NAME')\n",
        "import boto3\n",
        "\n",
        "# Create SQS client\n",
        "sqs = boto3.client('sqs',aws_access_key_id='your key',\n",
        "    aws_secret_access_key='your secrect key',region_name= 'us-east-1')\n",
        "\n",
        "\n",
        "queues = sqs.list_queues(QueueNamePrefix='SQS_QUEUE_NAME')\n",
        "#print(queues)\n",
        "test_queue_url = queues['QueueUrls'][0]\n",
        "#test_queue_url\n",
        "enqueue_response = sqs.send_message(QueueUrl=test_queue_url, MessageBody='This is test message #')\n",
        "print('Message ID : ',enqueue_response['MessageId'])\n",
        "\n",
        "enqueue_response = sqs.send_message(\n",
        "    QueueUrl=test_queue_url,\n",
        "    DelaySeconds=10,\n",
        "    MessageAttributes={\n",
        "        'Title': {\n",
        "            'DataType': 'String',\n",
        "            'StringValue': 'Training'\n",
        "        },\n",
        "        'Details': {\n",
        "            'DataType': 'String',\n",
        "            'StringValue': 'On Python SDK Boto AWS'\n",
        "        },\n",
        "        'WeeksOn': {\n",
        "            'DataType': 'Number',\n",
        "            'StringValue': '2'\n",
        "        }\n",
        "    },\n",
        "    MessageBody=(\n",
        "        'Information about current Current Training on Python on going  '\n",
        "        'week of 01/29/2019.'\n",
        "    )\n",
        ")\n",
        "\n",
        "print(enqueue_response['MessageId'])\n",
        "\n"
      ],
      "execution_count": 0,
      "outputs": [
        {
          "output_type": "stream",
          "text": [
            "Message ID :  e1ebdf37-4b6d-4cb6-ad9c-b5b57554d907\n",
            "977891e8-da71-4ba3-9be5-ba91e25d7026\n"
          ],
          "name": "stdout"
        }
      ]
    },
    {
      "metadata": {
        "id": "S31z6H5YIAwf",
        "colab_type": "code",
        "outputId": "e0dd3879-52ad-4c83-a8a0-01e12579581c",
        "colab": {
          "base_uri": "https://localhost:8080/",
          "height": 55
        }
      },
      "cell_type": "code",
      "source": [
        "sqs = boto3.client('sqs',aws_access_key_id='your key',\n",
        "    aws_secret_access_key='your secret key',region_name= 'us-east-1')\n",
        "\n",
        "queues = sqs.list_queues(QueueNamePrefix='SQS_QUEUE_NAME')\n",
        "#print(queues)\n",
        "test_queue_url = queues['QueueUrls'][0]\n",
        "\n",
        "# Receive message from SQS queue\n",
        "response = sqs.receive_message(\n",
        "    QueueUrl=test_queue_url,\n",
        "    AttributeNames=[\n",
        "        'SentTimestamp'\n",
        "    ],\n",
        "    MaxNumberOfMessages=1,\n",
        "    MessageAttributeNames=[\n",
        "        'All'\n",
        "    ],\n",
        "    VisibilityTimeout=0,\n",
        "    WaitTimeSeconds=0\n",
        ")\n",
        "\n",
        "message = response['Messages'][0]\n",
        "receipt_handle = message['ReceiptHandle']\n",
        "\n",
        "# Delete received message from queue\n",
        "sqs.delete_message(\n",
        "    QueueUrl=test_queue_url,\n",
        "    ReceiptHandle=receipt_handle\n",
        ")\n",
        "print('Received and deleted message: %s' % message)"
      ],
      "execution_count": 0,
      "outputs": [
        {
          "output_type": "stream",
          "text": [
            "Received and deleted message: {'MessageId': '977891e8-da71-4ba3-9be5-ba91e25d7026', 'ReceiptHandle': 'AQEB0CYSNUP85uAnLMDcq3IS88wOBrQePRXHm5jfzpcGIfpPEZo1m4oxff/201+2KoETYHUIcRcQ2iFThD0wo3dfW+Za9xFlsqOdvsLyeYcatzhXUpQfgxtv1WEjUV1G9d/sltmm2njK2PR+l+doMo9a8sgUfhjft7eJR3OZLsiJrkcLZGgFcSrLC53bNNiFkwkCBsfjp9eGGXLmsPEqgkiZCKLsQ0WL/HB/DH0CRg6WW8bhL8BaZ7rL0lATIA3AKP6TnfqkRu2XUPhL3eN2Bh0yM87a02JNiMpscJgj9ZVXFv1s55NYUKteZFdbMh5OtWMaNWet86k7xKxyWm4NUweEKXbs95IzYz5OAwF7To2by+oTqge/HiiX45znEAgiFvxtpg7mKcmldhEjxbsaeaRxCg==', 'MD5OfBody': 'd8ef0c71072305cfbf2a8d6e9e77ae48', 'Body': 'Information about current Current Training on Python on going  week of 01/29/2019.', 'Attributes': {'SentTimestamp': '1548773891284'}, 'MD5OfMessageAttributes': 'c4a612a6b0f76f797e2a2f0ee6395891', 'MessageAttributes': {'Details': {'StringValue': 'On Python SDK Boto AWS', 'DataType': 'String'}, 'Title': {'StringValue': 'Training', 'DataType': 'String'}, 'WeeksOn': {'StringValue': '2', 'DataType': 'Number'}}}\n"
          ],
          "name": "stdout"
        }
      ]
    },
    {
      "metadata": {
        "id": "12TPLu9DJh3X",
        "colab_type": "text"
      },
      "cell_type": "markdown",
      "source": [
        "**AWS SDK for Python to manage the instances by using these methods of the EC2 client class:**\n",
        "\n",
        "    describe_instances.\n",
        "    monitor_instances.\n",
        "    unmonitor_instances.\n",
        "    start_instances.\n",
        "    stop_instances.\n",
        "    reboot_instances.\n",
        "\n",
        "Try the same with your AWS account ."
      ]
    }
  ]
}